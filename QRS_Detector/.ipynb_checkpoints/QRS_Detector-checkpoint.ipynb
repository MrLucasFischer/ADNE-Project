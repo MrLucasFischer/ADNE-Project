{
 "cells": [
  {
   "cell_type": "markdown",
   "metadata": {},
   "source": [
    "# QRS Detector\n",
    "\n",
    "This notebook implements the actual QRS Detector. In this notebook there are two networks present, a fully conected feed forward network and a recurrent network, with the aim of comparing the two models and verifying which is more indicated for the type of data we have"
   ]
  },
  {
   "cell_type": "code",
   "execution_count": 10,
   "metadata": {},
   "outputs": [],
   "source": [
    "# importing required libraries\n",
    "import numpy as np\n",
    "import tensorflow as tf\n",
    "from tensorflow.python.keras import layers\n",
    "import matplotlib.pyplot as plt\n",
    "import pickle as pkl\n",
    "import random\n",
    "import math"
   ]
  },
  {
   "cell_type": "markdown",
   "metadata": {},
   "source": [
    "## Sampling Function\n",
    "\n",
    "The objective is to retrieve a random cropping of both the signal and the target from all files specified for the training/validation set. This helps us have a more well-versed dataset for training and validating our models."
   ]
  },
  {
   "cell_type": "code",
   "execution_count": 4,
   "metadata": {},
   "outputs": [],
   "source": [
    "# auxiliary function\n",
    "# extracts from a long np-array (2-rows) a (2-rows)-random segment with a fixed length (seqL*ninputs)\n",
    "def selectFrom1ecg(ecgBdata, seqL, ninputs, feed_forward = True, training = True):\n",
    "    \"\"\"\n",
    "    x: An array with vairous files, channels and examples\n",
    "    seqL:  number of timesteps to be used in recurrent nn\n",
    "    ninput : is number of inputs in each timestep\n",
    "    file_indexes: A list of the file indexes for training or validation set\n",
    "    \"\"\"\n",
    "    segmentL  = seqL * ninputs\n",
    "    numChan = 3\n",
    "    \n",
    "    if(training):\n",
    "        random_file_idx = random.randint(0, 57)\n",
    "    else:\n",
    "        random_file_idx = random.randint(0, 9)\n",
    "        \n",
    "    inpOutSegment = tf.random_crop(ecgBdata[random_file_idx],[numChan, segmentL])\n",
    "    \n",
    "    if(feed_forward):\n",
    "        channelII = inpOutSegment[0,:]\n",
    "        channelV1 = inpOutSegment[1,:]\n",
    "        target = inpOutSegment[2,:]\n",
    "        inputs = tf.concat((channelII, channelV1), axis = -1)\n",
    "        return inputs,target\n",
    "    else:\n",
    "        transposed = tf.transpose(inpOutSegment)\n",
    "        \n",
    "        inputs = transposed[:, :-1]\n",
    "        target = transposed[:, -1]\n",
    "        inputs = tf.reshape(inputs, (seqL, -1))\n",
    "        \n",
    "        # We need to re-transpose the target to turn int back into a one-row vector\n",
    "        target = tf.transpose(target)\n",
    "        \n",
    "        return inputs, target"
   ]
  },
  {
   "cell_type": "markdown",
   "metadata": {},
   "source": [
    "## Dataset array creation\n",
    "\n",
    "In this section we create the main dataset array containing all the training files. Each file has two input signals (channelII and channelV1) and a target signal."
   ]
  },
  {
   "cell_type": "code",
   "execution_count": 5,
   "metadata": {},
   "outputs": [],
   "source": [
    "dataset_array = []\n",
    "\n",
    "files_not_to_read = [4,17,35,44,57,72,74]\n",
    "index_counter = 0\n",
    "for i in range(1, 76):\n",
    "    \n",
    "    if i not in files_not_to_read:\n",
    "        file_path = f\"./processed_data/Training/I{i:02}\"\n",
    "        file_data = pkl.load(open(file_path, \"rb\"))        \n",
    "        index_counter = index_counter + 1\n",
    "        \n",
    "        info = [file_data[\"channelII\"], file_data[\"channelV1\"], file_data[\"label\"]]\n",
    "        info = np.array(info)\n",
    "        info = info.astype(np.float32)\n",
    "        dataset_array.append(info)\n",
    "\n",
    "ecgs_array = np.array(dataset_array)"
   ]
  },
  {
   "cell_type": "code",
   "execution_count": 6,
   "metadata": {},
   "outputs": [
    {
     "name": "stdout",
     "output_type": "stream",
     "text": [
      "(68, 3, 648000)\n",
      "(3, 648000)\n",
      "(1296000,)\n"
     ]
    }
   ],
   "source": [
    "#Just for testing\n",
    "print(ecgs_array.shape)\n",
    "print(ecgs_array[0].shape)\n",
    "np.transpose(ecgs_array[0])[:, :-1].reshape(5400, -1).reshape(5400*240, )\n",
    "print(np.transpose(ecgs_array[0])[:, :-1].reshape(5400, -1).reshape(5400*240, ).shape)"
   ]
  },
  {
   "cell_type": "markdown",
   "metadata": {},
   "source": [
    "## Test dataset array creation\n",
    "\n",
    "In this section we create the test dataset array containing all the test files. Each file has two input signals (\"MLII\",\"V1\", which correspond to signals \"II\" and \"V1\" in the training dataset) and a target signal."
   ]
  },
  {
   "cell_type": "code",
   "execution_count": 19,
   "metadata": {},
   "outputs": [
    {
     "name": "stdout",
     "output_type": "stream",
     "text": [
      "650000\n",
      "648000\n"
     ]
    }
   ],
   "source": [
    "test_dataset_array = []\n",
    "\n",
    "files_not_to_read = [110, 120, 204, 206, 211, 216, 218, 229]\n",
    "files_not_to_read = files_not_to_read + list(range(125,200)) + list(range(224,228))\n",
    "\n",
    "index_counter = 0\n",
    "for i in range(100, 235):\n",
    "    \n",
    "    if i not in files_not_to_read:\n",
    "        file_path = f\"./processed_data/Test/{i}\"\n",
    "        file_data = pkl.load(open(file_path, \"rb\"))        \n",
    "        index_counter = index_counter + 1\n",
    "        \n",
    "        info = [file_data[\"channelII\"], file_data[\"channelV1\"], file_data[\"label\"]]\n",
    "        info = np.array(info)\n",
    "        info = info.astype(np.float32)\n",
    "        test_dataset_array.append(info)\n",
    "\n",
    "test_ecgs_array = np.array(test_dataset_array)\n",
    "\n",
    "# Test dataset length is not a multiple of 2*ninputs*seqL(rnn) which causes problems when we want to\n",
    "# transpose the data as before, so we discard the last 2000 points \n",
    "# The test dataset will then have the same length as the training dataset\n",
    "# Is this ok?\n",
    "lenRecords = test_ecgs_array.shape[2]\n",
    "print(lenRecords)\n",
    "new_length = int(math.floor(lenRecords/5400))*5400\n",
    "print(new_length)\n",
    "test_ecgs_array = test_ecgs_array[:,:,:new_length]"
   ]
  },
  {
   "cell_type": "code",
   "execution_count": 20,
   "metadata": {},
   "outputs": [
    {
     "name": "stdout",
     "output_type": "stream",
     "text": [
      "(48, 3, 648000)\n",
      "(3, 648000)\n"
     ]
    },
    {
     "data": {
      "text/plain": [
       "array([-0.01313889,  0.00847222, -0.012125  , ..., -0.03984722,\n",
       "       -0.07179166, -0.05447222], dtype=float32)"
      ]
     },
     "execution_count": 20,
     "metadata": {},
     "output_type": "execute_result"
    }
   ],
   "source": [
    "#Just for testing \n",
    "print(test_ecgs_array.shape)\n",
    "print(test_ecgs_array[0].shape)\n",
    "# Reshaping would not work if the length of the records was not a multiple of 2*ninputs*seqL(rnn)\n",
    "np.transpose(test_ecgs_array[0])[:, :-1].reshape(5400, -1).reshape(5400*240, )"
   ]
  },
  {
   "cell_type": "code",
   "execution_count": 21,
   "metadata": {},
   "outputs": [
    {
     "name": "stdout",
     "output_type": "stream",
     "text": [
      "ninputs =  72\n",
      "seqL =  25\n",
      "ninputs*seqL =  1800\n",
      "WARNING:tensorflow:From /anaconda3/envs/tensorflow_env/lib/python3.7/site-packages/tensorflow/python/ops/control_flow_ops.py:3632: colocate_with (from tensorflow.python.framework.ops) is deprecated and will be removed in a future version.\n",
      "Instructions for updating:\n",
      "Colocations handled automatically by placer.\n",
      "ninputs =  72\n",
      "seqL(rnn) =  75\n",
      "ninputs*seqL(rnn) =  5400\n"
     ]
    }
   ],
   "source": [
    "# number of examples\n",
    "N = ecgs_array.shape[2]\n",
    "\n",
    "# Sampling frequency\n",
    "fs = 360\n",
    "\n",
    "# For each timestep we give ninputs\n",
    "ninputs = int(0.2*fs)\n",
    "\n",
    "# Sequence length (number of timesteps)\n",
    "seqL = int((5 * 360)/ninputs) # Using a 5 second window sequence\n",
    "\n",
    "print('ninputs = ',ninputs)\n",
    "print('seqL = ',seqL)\n",
    "print('ninputs*seqL = ',ninputs*seqL)\n",
    "\n",
    "# training data for feed forward network\n",
    "# Create efficient training sequences\n",
    "trainData = tf.data.Dataset.from_tensors(ecgs_array[:len(ecgs_array) - 10, :, :])\n",
    "trainData = trainData.map(lambda x:  selectFrom1ecg(x, seqL, ninputs, training = True))\n",
    "trainData = trainData.repeat()  # Repeat the input indefinitely.\n",
    "batchSize = 8\n",
    "trainData = trainData.batch(batchSize)\n",
    "\n",
    "valData = tf.data.Dataset.from_tensors(ecgs_array[len(ecgs_array) - 10:, :, :])\n",
    "valData = valData.map(lambda x:  selectFrom1ecg(x, seqL, ninputs, training = False))\n",
    "valData = valData.repeat()  # Repeat the input indefinitely.\n",
    "batchSize = 8\n",
    "valData = valData.batch(batchSize)\n",
    "\n",
    "# test data for feed forward network (here we don't need to leave out the 10 files)\n",
    "testData = tf.data.Dataset.from_tensors(test_ecgs_array)\n",
    "testData = testData.map(lambda x:  selectFrom1ecg(x, seqL, ninputs, training = False))\n",
    "testData = testData.repeat()  # Repeat the input indefinitely.\n",
    "batchSize = 8\n",
    "testData = testData.batch(batchSize)\n",
    "\n",
    "\n",
    "# Creating Training and Validation datasets with the correct shape for a Recurrent neural network\n",
    "# The sequence length for the recurrent neural network can be about 3 times greater than for the feed\n",
    "# forward neural net\n",
    "seql_rnn = 3 * seqL\n",
    "\n",
    "print('ninputs*seqL(rnn) = ',ninputs*seql_rnn)\n",
    "\n",
    "trainData_rnn = tf.data.Dataset.from_tensors(ecgs_array[:len(ecgs_array) - 10, :, :])\n",
    "trainData_rnn = trainData_rnn.map(lambda x:  selectFrom1ecg(x, seql_rnn, ninputs, training = True, feed_forward = False))\n",
    "trainData_rnn = trainData_rnn.repeat()  # Repeat the input indefinitely.\n",
    "batchSize_rnn = 8\n",
    "trainData_rnn = trainData_rnn.batch(batchSize_rnn)\n",
    "\n",
    "valData_rnn = tf.data.Dataset.from_tensors(ecgs_array[len(ecgs_array) - 10:, :, :])\n",
    "valData_rnn = valData_rnn.map(lambda x:  selectFrom1ecg(x, seql_rnn, ninputs, training = False, feed_forward = False))\n",
    "valData_rnn = valData_rnn.repeat()  # Repeat the input indefinitely.\n",
    "batchSize_rnn = 8\n",
    "valData_rnn = valData_rnn.batch(batchSize_rnn)\n",
    "\n",
    "\n",
    "# test data for feed forward network (here we don't need to leave out the 10 files)\n",
    "testData_rnn = tf.data.Dataset.from_tensors(test_ecgs_array)\n",
    "testData_rnn = testData_rnn.map(lambda x:  selectFrom1ecg(x, seql_rnn, ninputs, training = False))\n",
    "testData_rnn = testData_rnn.repeat()  # Repeat the input indefinitely.\n",
    "batchSize = 8\n",
    "testData_rnn = testData_rnn.batch(batchSize)"
   ]
  },
  {
   "cell_type": "code",
   "execution_count": 32,
   "metadata": {},
   "outputs": [
    {
     "name": "stdout",
     "output_type": "stream",
     "text": [
      "(8, 3600)\n",
      "1799\n"
     ]
    },
    {
     "data": {
      "image/png": "[encoded data removed]",
      "text/plain": [
       "<Figure size 432x288 with 1 Axes>"
      ]
     },
     "metadata": {
      "needs_background": "light"
     },
     "output_type": "display_data"
    },
    {
     "data": {
      "image/png": "[encoded data removed]",
      "text/plain": [
       "<Figure size 432x288 with 1 Axes>"
      ]
     },
     "metadata": {
      "needs_background": "light"
     },
     "output_type": "display_data"
    },
    {
     "data": {
      "image/png": "[encoded data removed]",
      "text/plain": [
       "<Figure size 432x288 with 1 Axes>"
      ]
     },
     "metadata": {
      "needs_background": "light"
     },
     "output_type": "display_data"
    }
   ],
   "source": [
    "# let's visualize the model's input data and target data\n",
    "iterator = trainData.make_initializable_iterator()\n",
    "next_element = iterator.get_next()\n",
    "with tf.Session() as sess:\n",
    "    sess.run(iterator.initializer)\n",
    "    inp, targ = sess.run(next_element)\n",
    "    print(inp.shape)\n",
    "lenInput=inp.shape[1]\n",
    "halfLen = int(lenInput / 2)-1\n",
    "print(halfLen)\n",
    "plt.plot(inp[0, :halfLen])\n",
    "plt.title('inputs')\n",
    "plt.show()\n",
    "plt.plot(targ[0, :])\n",
    "plt.title('targets')\n",
    "plt.show()\n",
    "plt.plot(inp[0, :halfLen],color='black')\n",
    "plt.plot(targ[0, :],color='orange')\n",
    "plt.ylim(top=max(inp[0, :halfLen]))\n",
    "plt.show()"
   ]
  },
  {
   "cell_type": "markdown",
   "metadata": {},
   "source": [
    "## Feedforward network"
   ]
  },
  {
   "cell_type": "code",
   "execution_count": null,
   "metadata": {},
   "outputs": [],
   "source": [
    "ffwdModel = tf.keras.Sequential()\n",
    "ffwdModel.add(layers.Dense(64, activation='relu',input_shape=(2*seqL*ninputs,)))\n",
    "ffwdModel.add(layers.Dense(64, activation='relu'))\n",
    "ffwdModel.add(layers.Dense(seqL*ninputs))\n",
    "\n",
    "ffwdModel.compile(optimizer=tf.train.RMSPropOptimizer(0.001), loss='MSE',metrics=['mae'])\n",
    "ffwdModel.fit(trainData,  epochs=10, steps_per_epoch=1000, validation_data=valData, validation_steps=100)"
   ]
  },
  {
   "cell_type": "markdown",
   "metadata": {},
   "source": [
    "## Recurrent neural network"
   ]
  },
  {
   "cell_type": "code",
   "execution_count": 5,
   "metadata": {},
   "outputs": [
    {
     "name": "stdout",
     "output_type": "stream",
     "text": [
      "WARNING:tensorflow:From /home/lucas/anaconda3/lib/python3.6/site-packages/tensorflow/python/keras/utils/losses_utils.py:170: to_float (from tensorflow.python.ops.math_ops) is deprecated and will be removed in a future version.\n",
      "Instructions for updating:\n",
      "Use tf.cast instead.\n",
      "WARNING:tensorflow:From /home/lucas/anaconda3/lib/python3.6/site-packages/tensorflow/python/ops/math_ops.py:3066: to_int32 (from tensorflow.python.ops.math_ops) is deprecated and will be removed in a future version.\n",
      "Instructions for updating:\n",
      "Use tf.cast instead.\n",
      "Epoch 1/10\n",
      "  73/1000 [=>............................] - ETA: 17:35 - loss: 0.0198 - mean_absolute_error: 0.0629"
     ]
    },
    {
     "ename": "KeyboardInterrupt",
     "evalue": "",
     "output_type": "error",
     "traceback": [
      "\u001b[0;31m---------------------------------------------------------------------------\u001b[0m",
      "\u001b[0;31mKeyboardInterrupt\u001b[0m                         Traceback (most recent call last)",
      "\u001b[0;32m<ipython-input-5-f95861d22e35>\u001b[0m in \u001b[0;36m<module>\u001b[0;34m()\u001b[0m\n\u001b[1;32m     12\u001b[0m \u001b[0;34m\u001b[0m\u001b[0m\n\u001b[1;32m     13\u001b[0m \u001b[0mrnnModel\u001b[0m\u001b[0;34m.\u001b[0m\u001b[0mcompile\u001b[0m\u001b[0;34m(\u001b[0m\u001b[0moptimizer\u001b[0m\u001b[0;34m=\u001b[0m\u001b[0mtf\u001b[0m\u001b[0;34m.\u001b[0m\u001b[0mtrain\u001b[0m\u001b[0;34m.\u001b[0m\u001b[0mRMSPropOptimizer\u001b[0m\u001b[0;34m(\u001b[0m\u001b[0;36m0.001\u001b[0m\u001b[0;34m)\u001b[0m\u001b[0;34m,\u001b[0m \u001b[0mloss\u001b[0m\u001b[0;34m=\u001b[0m\u001b[0;34m'MSE'\u001b[0m\u001b[0;34m,\u001b[0m\u001b[0mmetrics\u001b[0m\u001b[0;34m=\u001b[0m\u001b[0;34m[\u001b[0m\u001b[0;34m'mae'\u001b[0m\u001b[0;34m]\u001b[0m\u001b[0;34m)\u001b[0m\u001b[0;34m\u001b[0m\u001b[0;34m\u001b[0m\u001b[0m\n\u001b[0;32m---> 14\u001b[0;31m \u001b[0mrnnModel\u001b[0m\u001b[0;34m.\u001b[0m\u001b[0mfit\u001b[0m\u001b[0;34m(\u001b[0m\u001b[0mtrainData_rnn\u001b[0m\u001b[0;34m,\u001b[0m  \u001b[0mepochs\u001b[0m\u001b[0;34m=\u001b[0m\u001b[0;36m10\u001b[0m\u001b[0;34m,\u001b[0m \u001b[0msteps_per_epoch\u001b[0m\u001b[0;34m=\u001b[0m\u001b[0;36m1000\u001b[0m\u001b[0;34m,\u001b[0m \u001b[0mvalidation_data\u001b[0m\u001b[0;34m=\u001b[0m\u001b[0mvalData_rnn\u001b[0m\u001b[0;34m,\u001b[0m \u001b[0mvalidation_steps\u001b[0m\u001b[0;34m=\u001b[0m\u001b[0;36m100\u001b[0m\u001b[0;34m)\u001b[0m\u001b[0;34m\u001b[0m\u001b[0;34m\u001b[0m\u001b[0m\n\u001b[0m",
      "\u001b[0;32m~/anaconda3/lib/python3.6/site-packages/tensorflow/python/keras/engine/training.py\u001b[0m in \u001b[0;36mfit\u001b[0;34m(self, x, y, batch_size, epochs, verbose, callbacks, validation_split, validation_data, shuffle, class_weight, sample_weight, initial_epoch, steps_per_epoch, validation_steps, max_queue_size, workers, use_multiprocessing, **kwargs)\u001b[0m\n\u001b[1;32m    878\u001b[0m           \u001b[0minitial_epoch\u001b[0m\u001b[0;34m=\u001b[0m\u001b[0minitial_epoch\u001b[0m\u001b[0;34m,\u001b[0m\u001b[0;34m\u001b[0m\u001b[0;34m\u001b[0m\u001b[0m\n\u001b[1;32m    879\u001b[0m           \u001b[0msteps_per_epoch\u001b[0m\u001b[0;34m=\u001b[0m\u001b[0msteps_per_epoch\u001b[0m\u001b[0;34m,\u001b[0m\u001b[0;34m\u001b[0m\u001b[0;34m\u001b[0m\u001b[0m\n\u001b[0;32m--> 880\u001b[0;31m           validation_steps=validation_steps)\n\u001b[0m\u001b[1;32m    881\u001b[0m \u001b[0;34m\u001b[0m\u001b[0m\n\u001b[1;32m    882\u001b[0m   def evaluate(self,\n",
      "\u001b[0;32m~/anaconda3/lib/python3.6/site-packages/tensorflow/python/keras/engine/training_arrays.py\u001b[0m in \u001b[0;36mmodel_iteration\u001b[0;34m(model, inputs, targets, sample_weights, batch_size, epochs, verbose, callbacks, val_inputs, val_targets, val_sample_weights, shuffle, initial_epoch, steps_per_epoch, validation_steps, mode, validation_in_fit, **kwargs)\u001b[0m\n\u001b[1;32m    264\u001b[0m           \u001b[0;31m# `ins` can be callable in DistributionStrategy + eager case.\u001b[0m\u001b[0;34m\u001b[0m\u001b[0;34m\u001b[0m\u001b[0;34m\u001b[0m\u001b[0m\n\u001b[1;32m    265\u001b[0m           \u001b[0mactual_inputs\u001b[0m \u001b[0;34m=\u001b[0m \u001b[0mins\u001b[0m\u001b[0;34m(\u001b[0m\u001b[0;34m)\u001b[0m \u001b[0;32mif\u001b[0m \u001b[0mcallable\u001b[0m\u001b[0;34m(\u001b[0m\u001b[0mins\u001b[0m\u001b[0;34m)\u001b[0m \u001b[0;32melse\u001b[0m \u001b[0mins\u001b[0m\u001b[0;34m\u001b[0m\u001b[0;34m\u001b[0m\u001b[0m\n\u001b[0;32m--> 266\u001b[0;31m           \u001b[0mbatch_outs\u001b[0m \u001b[0;34m=\u001b[0m \u001b[0mf\u001b[0m\u001b[0;34m(\u001b[0m\u001b[0mactual_inputs\u001b[0m\u001b[0;34m)\u001b[0m\u001b[0;34m\u001b[0m\u001b[0;34m\u001b[0m\u001b[0m\n\u001b[0m\u001b[1;32m    267\u001b[0m         \u001b[0;32mexcept\u001b[0m \u001b[0merrors\u001b[0m\u001b[0;34m.\u001b[0m\u001b[0mOutOfRangeError\u001b[0m\u001b[0;34m:\u001b[0m\u001b[0;34m\u001b[0m\u001b[0;34m\u001b[0m\u001b[0m\n\u001b[1;32m    268\u001b[0m           logging.warning('Your dataset iterator ran out of data; '\n",
      "\u001b[0;32m~/anaconda3/lib/python3.6/site-packages/tensorflow/python/keras/backend.py\u001b[0m in \u001b[0;36m__call__\u001b[0;34m(self, inputs)\u001b[0m\n\u001b[1;32m   3074\u001b[0m \u001b[0;34m\u001b[0m\u001b[0m\n\u001b[1;32m   3075\u001b[0m     fetched = self._callable_fn(*array_vals,\n\u001b[0;32m-> 3076\u001b[0;31m                                 run_metadata=self.run_metadata)\n\u001b[0m\u001b[1;32m   3077\u001b[0m     \u001b[0mself\u001b[0m\u001b[0;34m.\u001b[0m\u001b[0m_call_fetch_callbacks\u001b[0m\u001b[0;34m(\u001b[0m\u001b[0mfetched\u001b[0m\u001b[0;34m[\u001b[0m\u001b[0;34m-\u001b[0m\u001b[0mlen\u001b[0m\u001b[0;34m(\u001b[0m\u001b[0mself\u001b[0m\u001b[0;34m.\u001b[0m\u001b[0m_fetches\u001b[0m\u001b[0;34m)\u001b[0m\u001b[0;34m:\u001b[0m\u001b[0;34m]\u001b[0m\u001b[0;34m)\u001b[0m\u001b[0;34m\u001b[0m\u001b[0;34m\u001b[0m\u001b[0m\n\u001b[1;32m   3078\u001b[0m     return nest.pack_sequence_as(self._outputs_structure,\n",
      "\u001b[0;32m~/anaconda3/lib/python3.6/site-packages/tensorflow/python/client/session.py\u001b[0m in \u001b[0;36m__call__\u001b[0;34m(self, *args, **kwargs)\u001b[0m\n\u001b[1;32m   1437\u001b[0m           ret = tf_session.TF_SessionRunCallable(\n\u001b[1;32m   1438\u001b[0m               \u001b[0mself\u001b[0m\u001b[0;34m.\u001b[0m\u001b[0m_session\u001b[0m\u001b[0;34m.\u001b[0m\u001b[0m_session\u001b[0m\u001b[0;34m,\u001b[0m \u001b[0mself\u001b[0m\u001b[0;34m.\u001b[0m\u001b[0m_handle\u001b[0m\u001b[0;34m,\u001b[0m \u001b[0margs\u001b[0m\u001b[0;34m,\u001b[0m \u001b[0mstatus\u001b[0m\u001b[0;34m,\u001b[0m\u001b[0;34m\u001b[0m\u001b[0;34m\u001b[0m\u001b[0m\n\u001b[0;32m-> 1439\u001b[0;31m               run_metadata_ptr)\n\u001b[0m\u001b[1;32m   1440\u001b[0m         \u001b[0;32mif\u001b[0m \u001b[0mrun_metadata\u001b[0m\u001b[0;34m:\u001b[0m\u001b[0;34m\u001b[0m\u001b[0;34m\u001b[0m\u001b[0m\n\u001b[1;32m   1441\u001b[0m           \u001b[0mproto_data\u001b[0m \u001b[0;34m=\u001b[0m \u001b[0mtf_session\u001b[0m\u001b[0;34m.\u001b[0m\u001b[0mTF_GetBuffer\u001b[0m\u001b[0;34m(\u001b[0m\u001b[0mrun_metadata_ptr\u001b[0m\u001b[0;34m)\u001b[0m\u001b[0;34m\u001b[0m\u001b[0;34m\u001b[0m\u001b[0m\n",
      "\u001b[0;31mKeyboardInterrupt\u001b[0m: "
     ]
    }
   ],
   "source": [
    "numLstmUnits = 320\n",
    "\n",
    "rnnModel = tf.keras.Sequential()\n",
    "#rnnModel.add(layers.Reshape((seql_rnn, 2*ninputs), input_shape=(seql_rnn * (2 *ninputs), )))\n",
    "rnnModel.add(layers.LSTM(units=numLstmUnits, return_sequences=True, input_shape = (seql_rnn, 2 * ninputs)))         \n",
    "rnnModel.add(layers.LSTM(units=numLstmUnits, return_sequences=True))\n",
    "rnnModel.add(layers.LSTM(units=numLstmUnits, return_sequences=True))         \n",
    "rnnModel.add(layers.LSTM(units=numLstmUnits, return_sequences=True))\n",
    "rnnModel.add(layers.TimeDistributed(layers.Dense(ninputs)))\n",
    "rnnModel.add(layers.Reshape((seql_rnn * ninputs, )))\n",
    "#rnnModel.add(layers.Reshape((seql_rnn,)))\n",
    "\n",
    "rnnModel.compile(optimizer=tf.train.RMSPropOptimizer(0.001), loss='MSE',metrics=['mae'])\n",
    "rnnModel.fit(trainData_rnn,  epochs=10, steps_per_epoch=1000, validation_data=valData_rnn, validation_steps=100)"
   ]
  },
  {
   "cell_type": "markdown",
   "metadata": {},
   "source": [
    "# TODOS\n",
    "\n",
    "1- Ler o test set (DONE: ver notas sobre tamanho dos records)\n",
    "2 - Passar as coisas para o Colab\n",
    "3 - Obter os resultados das redes\n",
    "4 - Fazer o post-processamento das previsões das redes!\n",
    "5 - Por a baseline da joana a funcionar (quando a joana por a baseline voltar a correr para ter os ficheiro atualizados) (DONE no ficheiro QRS_preprocess)\n",
    "6 - Escrever no relatório\n",
    "7 - Melhorar o código e as coisas no notebook\n",
    "8- Trabalhar um bocadinho os parametros\n",
    "9 - Comentar melhor o código"
   ]
  },
  {
   "cell_type": "code",
   "execution_count": null,
   "metadata": {},
   "outputs": [],
   "source": []
  }
 ],
 "metadata": {
  "kernelspec": {
   "display_name": "Python 3",
   "language": "python",
   "name": "python3"
  },
  "language_info": {
   "codemirror_mode": {
    "name": "ipython",
    "version": 3
   },
   "file_extension": ".py",
   "mimetype": "text/x-python",
   "name": "python",
   "nbconvert_exporter": "python",
   "pygments_lexer": "ipython3",
   "version": "3.7.3"
  }
 },
 "nbformat": 4,
 "nbformat_minor": 2
}
