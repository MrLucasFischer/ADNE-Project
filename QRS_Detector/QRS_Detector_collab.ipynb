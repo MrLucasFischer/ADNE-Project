{
  "nbformat": 4,
  "nbformat_minor": 0,
  "metadata": {
    "colab": {
      "name": "QRS_Detector_collab.ipynb",
      "version": "0.3.2",
      "provenance": [],
      "collapsed_sections": []
    },
    "kernelspec": {
      "name": "python3",
      "display_name": "Python 3"
    },
    "accelerator": "GPU"
  },
  "cells": [
    {
      "cell_type": "markdown",
      "metadata": {
        "id": "N7GJ9TLwzVSj",
        "colab_type": "text"
      },
      "source": [
        "# QRS Detector\n",
        "\n",
        "This notebook implements the actual QRS Detector. In this notebook there are two networks present, a fully conected feed forward network and a recurrent network, with the aim of comparing the two models and verifying which is more indicated for the type of data we have"
      ]
    },
    {
      "cell_type": "code",
      "metadata": {
        "id": "ZhmQIcyWzhNI",
        "colab_type": "code",
        "colab": {}
      },
      "source": [
        "# importing required libraries\n",
        "import numpy as np\n",
        "import tensorflow as tf\n",
        "from tensorflow.python.keras import layers\n",
        "import matplotlib.pyplot as plt\n",
        "import pickle as pkl\n",
        "import random\n",
        "import math\n",
        "\n",
        "#!pip install wfdb\n",
        "import wfdb\n",
        "from wfdb.processing import find_local_peaks\n",
        "from wfdb.processing import compare_annotations"
      ],
      "execution_count": 0,
      "outputs": []
    },
    {
      "cell_type": "code",
      "metadata": {
        "id": "jId_h31027mB",
        "colab_type": "code",
        "colab": {}
      },
      "source": [
        "from google.colab import drive\n",
        "#drive.mount('/content/drive/')\n",
        "from glob import glob"
      ],
      "execution_count": 0,
      "outputs": []
    },
    {
      "cell_type": "code",
      "metadata": {
        "id": "h1CJ9K5821yC",
        "colab_type": "code",
        "outputId": "9af76108-0627-43b8-cbec-ebf266f7fbed",
        "colab": {
          "base_uri": "https://localhost:8080/",
          "height": 63
        }
      },
      "source": [
        "!ls drive/'My Drive'/'Colab Notebooks'/processed_data\n",
        "main_path = 'drive/My Drive/Colab Notebooks/processed_data/'\n",
        "weights_path = 'drive/My Drive/Colab Notebooks/network_weights/'"
      ],
      "execution_count": 3,
      "outputs": [
        {
          "output_type": "stream",
          "text": [
            "Test  Training\n"
          ],
          "name": "stdout"
        }
      ]
    },
    {
      "cell_type": "markdown",
      "metadata": {
        "id": "UVBz9RZmzmB4",
        "colab_type": "text"
      },
      "source": [
        "## Sampling Function\n",
        "\n",
        "The objective is to retrieve a random cropping of both the signal and the target from all files specified for the training/validation set. This helps us have a more well-versed dataset for training and validating our models."
      ]
    },
    {
      "cell_type": "code",
      "metadata": {
        "id": "LSfAr_ABzq7s",
        "colab_type": "code",
        "colab": {}
      },
      "source": [
        "# auxiliary function\n",
        "# extracts from a long np-array (2-rows) a (2-rows)-random segment with a fixed length (seqL*ninputs)\n",
        "def selectFrom1ecg(ecgBdata, seqL, ninputs, feed_forward = True, training = True, testing = False):\n",
        "    \"\"\"\n",
        "    x: An array with vairous files, channels and examples\n",
        "    seqL:  number of timesteps to be used in recurrent nn\n",
        "    ninput : is number of inputs in each timestep\n",
        "    file_indexes: A list of the file indexes for training or validation set\n",
        "    \"\"\"\n",
        "    segmentL  = seqL * ninputs\n",
        "    numChan = 3\n",
        "    \n",
        "    if(training):\n",
        "        random_file_idx = random.randint(0, 57)\n",
        "    else:\n",
        "        random_file_idx = random.randint(0, 9)\n",
        "    \n",
        "    if(testing):\n",
        "        random_file_idx = random.randint(0, 48)\n",
        "    \n",
        "    inpOutSegment = tf.random_crop(ecgBdata[random_file_idx],[numChan, segmentL])\n",
        "\n",
        "    \n",
        "    if(feed_forward):\n",
        "        channelII = inpOutSegment[0,:]\n",
        "        channelV1 = inpOutSegment[1,:]\n",
        "        target = inpOutSegment[2,:]\n",
        "        inputs = tf.concat((channelII, channelV1), axis = -1)\n",
        "        return inputs,target\n",
        "    else:\n",
        "        transposed = tf.transpose(inpOutSegment)\n",
        "        \n",
        "        inputs = transposed[:, :-1]\n",
        "        target = transposed[:, -1]\n",
        "        inputs = tf.reshape(inputs, (seqL, -1))\n",
        "        \n",
        "        # We need to re-transpose the target to turn int back into a one-row vector\n",
        "        target = tf.transpose(target)\n",
        "                \n",
        "        return inputs, target"
      ],
      "execution_count": 0,
      "outputs": []
    },
    {
      "cell_type": "markdown",
      "metadata": {
        "id": "PxL8mgKIzuB7",
        "colab_type": "text"
      },
      "source": [
        "## Dataset array creation\n",
        "\n",
        "In this section we create the main dataset array containing all the training files. Each file has two input signals (channelII and channelV1) and a target signal."
      ]
    },
    {
      "cell_type": "code",
      "metadata": {
        "id": "tDltqghDzu9y",
        "colab_type": "code",
        "colab": {}
      },
      "source": [
        "dataset_array = []\n",
        "\n",
        "files_not_to_read = [4,17,35,44,57,72,74]\n",
        "index_counter = 0\n",
        "for i in range(1, 76):\n",
        "    \n",
        "    if i not in files_not_to_read:\n",
        "        file_path = f\"Training/I{i:02}\"\n",
        "        file_path = main_path + file_path\n",
        "        file_data = pkl.load(open(file_path, \"rb\"))        \n",
        "        index_counter = index_counter + 1\n",
        "        \n",
        "        info = [file_data[\"channelII\"], file_data[\"channelV1\"], file_data[\"label\"]]\n",
        "        info = np.array(info)\n",
        "        info = info.astype(np.float32)\n",
        "        dataset_array.append(info)\n",
        "\n",
        "ecgs_array = np.array(dataset_array)"
      ],
      "execution_count": 0,
      "outputs": []
    },
    {
      "cell_type": "markdown",
      "metadata": {
        "id": "fu0bgq8Bz4P_",
        "colab_type": "text"
      },
      "source": [
        "## Test dataset array creation\n",
        "\n",
        "In this section we create the test dataset array containing all the test files. Each file has two input signals (\"MLII\",\"V1\", which correspond to signals \"II\" and \"V1\" in the training dataset) and a target signal."
      ]
    },
    {
      "cell_type": "code",
      "metadata": {
        "id": "NucVTffzz45Z",
        "colab_type": "code",
        "outputId": "e17f466c-f855-431a-86b3-1c6ec8c7f25a",
        "colab": {
          "base_uri": "https://localhost:8080/",
          "height": 51
        }
      },
      "source": [
        "test_dataset_array = []\n",
        "\n",
        "files_not_to_read = [110, 120, 204, 206, 211, 216, 218, 229]\n",
        "files_not_to_read = files_not_to_read + list(range(125,200)) + list(range(224,228))\n",
        "\n",
        "index_counter = 0\n",
        "for i in range(100, 235):\n",
        "    \n",
        "    if i not in files_not_to_read:\n",
        "        file_path = f\"Test/{i}\"\n",
        "        file_path = main_path + file_path\n",
        "        file_data = pkl.load(open(file_path, \"rb\"))        \n",
        "        index_counter = index_counter + 1\n",
        "        \n",
        "        info = [file_data[\"channelII\"], file_data[\"channelV1\"], file_data[\"label\"]]\n",
        "        info = np.array(info)\n",
        "        info = info.astype(np.float32)\n",
        "        test_dataset_array.append(info)\n",
        "\n",
        "test_ecgs_array = np.array(test_dataset_array)\n",
        "\n",
        "# Test dataset length is not a multiple of 2*ninputs*seqL(rnn) which causes problems when we want to\n",
        "# transpose the data as before, so we discard the last 2000 points \n",
        "# The test dataset will then have the same length as the training dataset\n",
        "lenRecords = test_ecgs_array.shape[2]\n",
        "new_length = int(math.floor(lenRecords/5400))*5400\n",
        "test_ecgs_array = test_ecgs_array[:,:,:new_length]"
      ],
      "execution_count": 6,
      "outputs": [
        {
          "output_type": "stream",
          "text": [
            "650000\n",
            "648000\n"
          ],
          "name": "stdout"
        }
      ]
    },
    {
      "cell_type": "code",
      "metadata": {
        "id": "IZgCJQX161SF",
        "colab_type": "code",
        "outputId": "da86473e-cb4d-4e2a-deb9-433034d07bed",
        "colab": {
          "base_uri": "https://localhost:8080/",
          "height": 179
        }
      },
      "source": [
        "# number of examples\n",
        "N = ecgs_array.shape[2]\n",
        "\n",
        "# Sampling frequency\n",
        "fs = 360\n",
        "\n",
        "# For each timestep we give ninputs\n",
        "ninputs = int(0.2*fs)\n",
        "\n",
        "# Sequence length (number of timesteps)\n",
        "seqL = int((5 * 360)/ninputs) # Using a 5 second window sequence\n",
        "\n",
        "print('ninputs = ',ninputs)\n",
        "print('seqL = ',seqL)\n",
        "print('ninputs*seqL = ',ninputs*seqL)\n",
        "\n",
        "# training data for feed forward network\n",
        "# Create efficient training sequences\n",
        "trainData = tf.data.Dataset.from_tensors(ecgs_array[:len(ecgs_array) - 10, :, :])\n",
        "trainData = trainData.map(lambda x:  selectFrom1ecg(x, seqL, ninputs, training = True))\n",
        "trainData = trainData.repeat()  # Repeat the input indefinitely.\n",
        "batchSize = 8\n",
        "trainData = trainData.batch(batchSize)\n",
        "\n",
        "valData = tf.data.Dataset.from_tensors(ecgs_array[len(ecgs_array) - 10:, :, :])\n",
        "valData = valData.map(lambda x:  selectFrom1ecg(x, seqL, ninputs, training = False))\n",
        "valData = valData.repeat()  # Repeat the input indefinitely.\n",
        "batchSize = 8\n",
        "valData = valData.batch(batchSize)\n",
        "\n",
        "# test data for feed forward network (here we don't need to leave out the 10 files)\n",
        "testData = tf.data.Dataset.from_tensors(test_ecgs_array)\n",
        "testData = testData.map(lambda x:  selectFrom1ecg(x, seqL, ninputs, training = False, testing = True))\n",
        "testData = testData.repeat()  # Repeat the input indefinitely.\n",
        "batchSize = 8\n",
        "testData = testData.batch(batchSize)\n",
        "\n",
        "\n",
        "# Creating Training and Validation datasets with the correct shape for a Recurrent neural network\n",
        "# The sequence length for the recurrent neural network can be about 3 times greater than for the feed\n",
        "# forward neural net\n",
        "seql_rnn = 3 * seqL\n",
        "\n",
        "print('ninputs*seqL(rnn) = ',ninputs*seql_rnn)\n",
        "\n",
        "trainData_rnn = tf.data.Dataset.from_tensors(ecgs_array[:len(ecgs_array) - 10, :, :])\n",
        "trainData_rnn = trainData_rnn.map(lambda x:  selectFrom1ecg(x, seql_rnn, ninputs, training = True, feed_forward = False))\n",
        "trainData_rnn = trainData_rnn.repeat()  # Repeat the input indefinitely.\n",
        "batchSize_rnn = 8\n",
        "trainData_rnn = trainData_rnn.batch(batchSize_rnn)\n",
        "\n",
        "valData_rnn = tf.data.Dataset.from_tensors(ecgs_array[len(ecgs_array) - 10:, :, :])\n",
        "valData_rnn = valData_rnn.map(lambda x:  selectFrom1ecg(x, seql_rnn, ninputs, training = False, feed_forward = False))\n",
        "valData_rnn = valData_rnn.repeat()  # Repeat the input indefinitely.\n",
        "batchSize_rnn = 8\n",
        "valData_rnn = valData_rnn.batch(batchSize_rnn)\n",
        "\n",
        "\n",
        "# test data for feed forward network (here we don't need to leave out the 10 files)\n",
        "testData_rnn = tf.data.Dataset.from_tensors(test_ecgs_array)\n",
        "testData_rnn = testData_rnn.map(lambda x:  selectFrom1ecg(x, seql_rnn, ninputs, training = False, feed_forward = False, testing = True))\n",
        "testData_rnn = testData_rnn.repeat()  # Repeat the input indefinitely.\n",
        "batchSize = 8\n",
        "testData_rnn = testData_rnn.batch(batchSize)"
      ],
      "execution_count": 7,
      "outputs": [
        {
          "output_type": "stream",
          "text": [
            "ninputs =  72\n",
            "seqL =  25\n",
            "ninputs*seqL =  1800\n",
            "WARNING:tensorflow:From /usr/local/lib/python3.6/dist-packages/tensorflow/python/ops/control_flow_ops.py:3632: colocate_with (from tensorflow.python.framework.ops) is deprecated and will be removed in a future version.\n",
            "Instructions for updating:\n",
            "Colocations handled automatically by placer.\n",
            "ninputs*seqL(rnn) =  5400\n"
          ],
          "name": "stdout"
        }
      ]
    },
    {
      "cell_type": "markdown",
      "metadata": {
        "id": "kDLVG3AG7iAh",
        "colab_type": "text"
      },
      "source": [
        "# Recurrent neural network\n",
        "\n",
        "In this subsection we define the architecture for the RNN. We are using 4 LSTM layers with GPU support.\n",
        "After fitting our RNN we save the model weights to be able to reuse them without retraining the network."
      ]
    },
    {
      "cell_type": "code",
      "metadata": {
        "id": "WOVz39jL7k93",
        "colab_type": "code",
        "outputId": "b0666d25-bdd1-4109-f63e-d2da1c1b2e2f",
        "colab": {
          "base_uri": "https://localhost:8080/",
          "height": 374
        }
      },
      "source": [
        "numLstmUnits = 320\n",
        "\n",
        "rnnModel = tf.keras.Sequential()\n",
        "rnnModel.add(layers.CuDNNLSTM(units=numLstmUnits, return_sequences=True, input_shape = (seql_rnn, 2 * ninputs)))         \n",
        "rnnModel.add(layers.CuDNNLSTM(units=numLstmUnits, return_sequences=True))\n",
        "rnnModel.add(layers.CuDNNLSTM(units=numLstmUnits, return_sequences=True))         \n",
        "rnnModel.add(layers.CuDNNLSTM(units=numLstmUnits, return_sequences=True))\n",
        "rnnModel.add(layers.TimeDistributed(layers.Dense(ninputs)))\n",
        "rnnModel.add(layers.Reshape((seql_rnn * ninputs, )))\n",
        "\n",
        "rnnModel.compile(optimizer=tf.train.RMSPropOptimizer(0.001), loss='MSE',metrics=['mae'])\n",
        "\n",
        "#rnnModel.fit(trainData_rnn,  epochs=10, steps_per_epoch=1000, validation_data=valData_rnn, validation_steps=100)"
      ],
      "execution_count": 39,
      "outputs": [
        {
          "output_type": "stream",
          "text": [
            "Epoch 1/10\n",
            "1000/1000 [==============================] - 28s 28ms/step - loss: 0.0116 - mean_absolute_error: 0.0251 - val_loss: 0.0113 - val_mean_absolute_error: 0.0278\n",
            "Epoch 2/10\n",
            "1000/1000 [==============================] - 27s 27ms/step - loss: 0.0111 - mean_absolute_error: 0.0293 - val_loss: 0.0114 - val_mean_absolute_error: 0.0531\n",
            "Epoch 3/10\n",
            "1000/1000 [==============================] - 27s 27ms/step - loss: 0.0076 - mean_absolute_error: 0.0343 - val_loss: 0.0088 - val_mean_absolute_error: 0.0397\n",
            "Epoch 4/10\n",
            "1000/1000 [==============================] - 27s 27ms/step - loss: 0.0031 - mean_absolute_error: 0.0219 - val_loss: 0.0115 - val_mean_absolute_error: 0.0320\n",
            "Epoch 5/10\n",
            "1000/1000 [==============================] - 27s 27ms/step - loss: 0.0019 - mean_absolute_error: 0.0141 - val_loss: 0.0117 - val_mean_absolute_error: 0.0277\n",
            "Epoch 6/10\n",
            "1000/1000 [==============================] - 27s 27ms/step - loss: 0.0018 - mean_absolute_error: 0.0118 - val_loss: 0.0115 - val_mean_absolute_error: 0.0260\n",
            "Epoch 7/10\n",
            "1000/1000 [==============================] - 27s 27ms/step - loss: 0.0017 - mean_absolute_error: 0.0108 - val_loss: 0.0117 - val_mean_absolute_error: 0.0251\n",
            "Epoch 8/10\n",
            "1000/1000 [==============================] - 27s 27ms/step - loss: 0.0017 - mean_absolute_error: 0.0103 - val_loss: 0.0114 - val_mean_absolute_error: 0.0239\n",
            "Epoch 9/10\n",
            "1000/1000 [==============================] - 27s 27ms/step - loss: 0.0017 - mean_absolute_error: 0.0098 - val_loss: 0.0112 - val_mean_absolute_error: 0.0236\n",
            "Epoch 10/10\n",
            "1000/1000 [==============================] - 27s 27ms/step - loss: 0.0016 - mean_absolute_error: 0.0096 - val_loss: 0.0113 - val_mean_absolute_error: 0.0230\n"
          ],
          "name": "stdout"
        },
        {
          "output_type": "execute_result",
          "data": {
            "text/plain": [
              "<tensorflow.python.keras.callbacks.History at 0x7fbd219e2898>"
            ]
          },
          "metadata": {
            "tags": []
          },
          "execution_count": 39
        }
      ]
    },
    {
      "cell_type": "code",
      "metadata": {
        "id": "mOWmzZLOGLzl",
        "colab_type": "code",
        "colab": {}
      },
      "source": [
        "# Saving the network weights\n",
        "weights_file_path_7layers = weights_path + 'RNN_weights_7layers.h5'\n",
        "weights_file_path = weights_path + 'RNN_weights.h5'\n",
        "rnnModel.save_weights(weights_file_path)"
      ],
      "execution_count": 0,
      "outputs": []
    },
    {
      "cell_type": "code",
      "metadata": {
        "id": "PgoIa41xZij8",
        "colab_type": "code",
        "colab": {}
      },
      "source": [
        "rnnModel.load_weights(weights_file_path)"
      ],
      "execution_count": 0,
      "outputs": []
    },
    {
      "cell_type": "markdown",
      "metadata": {
        "id": "dGzZlhTEayMv",
        "colab_type": "text"
      },
      "source": [
        "## Predict - RNN\n",
        "\n",
        "This section is dedicated to generate the predictions of our RNN model. We first consider ten batches and obtain the predictions for them."
      ]
    },
    {
      "cell_type": "code",
      "metadata": {
        "id": "4y9E6NK3bsY9",
        "colab_type": "code",
        "colab": {}
      },
      "source": [
        "#output = rnnModel.predict(testData_rnn,steps=1000)\n",
        "#print(output.shape)"
      ],
      "execution_count": 0,
      "outputs": []
    },
    {
      "cell_type": "code",
      "metadata": {
        "id": "2EgZjsXrGhre",
        "colab_type": "code",
        "colab": {}
      },
      "source": [
        "def get_preds_targets(tf_dataset,model):\n",
        "  predictions = []\n",
        "  targets = []\n",
        "  nbatches = 10\n",
        "\n",
        "  try:\n",
        "    iterator = tf_dataset.make_initializable_iterator()\n",
        "    next_element = iterator.get_next()\n",
        "\n",
        "    for i in range(nbatches):\n",
        "      with tf.Session() as sess:\n",
        "        sess.run(iterator.initializer)\n",
        "        inp, targ = sess.run(next_element)\n",
        "        targets.append(targ)\n",
        "        print(f\"Getting batch {i}\")\n",
        "      output = model.predict(inp)\n",
        "      predictions.append(output)\n",
        "\n",
        "  except:\n",
        "    print('something wrong!')\n",
        "    pass\n",
        "  \n",
        "  return predictions, targets"
      ],
      "execution_count": 0,
      "outputs": []
    },
    {
      "cell_type": "code",
      "metadata": {
        "id": "OIeGeN6SltXM",
        "colab_type": "code",
        "colab": {
          "base_uri": "https://localhost:8080/",
          "height": 187
        },
        "outputId": "d1fdb4bc-b7a4-4cb4-d40b-6203967b142e"
      },
      "source": [
        "predictions, targets = get_preds_targets(testData_rnn, rnnModel)\n",
        "targets1D = np.reshape(targets,(nbatches*batchSize_rnn*seql_rnn * ninputs))\n",
        "predictions1D = np.reshape(predictions,(nbatches*batchSize_rnn*seql_rnn * ninputs))"
      ],
      "execution_count": 77,
      "outputs": [
        {
          "output_type": "stream",
          "text": [
            "Getting batch 0\n",
            "Getting batch 1\n",
            "Getting batch 2\n",
            "Getting batch 3\n",
            "Getting batch 4\n",
            "Getting batch 5\n",
            "Getting batch 6\n",
            "Getting batch 7\n",
            "Getting batch 8\n",
            "Getting batch 9\n"
          ],
          "name": "stdout"
        }
      ]
    },
    {
      "cell_type": "markdown",
      "metadata": {
        "id": "3Azevr0csK32",
        "colab_type": "text"
      },
      "source": [
        "## Postprocessing\n",
        "\n",
        "The predictions of the RNN network are processed to eliminate false peaks (oscillations below a certain threshold). We then use the function find_local_peaks to obtain the peak positions. However, since this function gives false peaks in regions where the signal is flat, we filter its result with the same threshold as before."
      ]
    },
    {
      "cell_type": "code",
      "metadata": {
        "id": "J9-FURnHt27t",
        "colab_type": "code",
        "colab": {}
      },
      "source": [
        "def get_peaks(predictions1D,targets1D):\n",
        "  # First use a threshold to eliminate some smaller peaks\n",
        "  thresh = 0.5\n",
        "  peaks = np.where(predictions1D>thresh, predictions1D, 0)\n",
        "\n",
        "  # Find local peaks in filtered predictions\n",
        "  peak_locs = find_local_peaks(peaks,8)\n",
        "\n",
        "  # Filter peak locations with condition that value of signal there must be \n",
        "  peak_locs_above_th = [p for p in peak_locs if peaks[p] > thresh]\n",
        "\n",
        "  peaks_targets1D = np.where(targets1D>thresh, targets1D, 0)\n",
        "  # Find local peaks in filtered predictions\n",
        "  targets_peak_locs = find_local_peaks(peaks_targets1D,8)\n",
        "  targets_peak_locs_above_th = [p for p in targets_peak_locs if peaks_targets1D[p] > thresh]\n",
        "\n",
        "  targets_peak_locs_above_th = np.array(targets_peak_locs_above_th)\n",
        "  peak_locs_above_th = np.array(peak_locs_above_th)\n",
        "  \n",
        "  return peak_locs_above_th, targets_peak_locs_above_th"
      ],
      "execution_count": 0,
      "outputs": []
    },
    {
      "cell_type": "markdown",
      "metadata": {
        "id": "2XtHzwNgoNc-",
        "colab_type": "text"
      },
      "source": [
        "Finding peak indexes for plotting purposes"
      ]
    },
    {
      "cell_type": "code",
      "metadata": {
        "id": "qAckmAeLhvDc",
        "colab_type": "code",
        "colab": {
          "base_uri": "https://localhost:8080/",
          "height": 102
        },
        "outputId": "f57f3104-60c9-4e5b-b5d1-9bac1d26cd7f"
      },
      "source": [
        "peak_locs_above_th, targets_peak_locs_above_th = get_peaks(predictions1D,targets1D)\n",
        "peak_locs_above_th"
      ],
      "execution_count": 70,
      "outputs": [
        {
          "output_type": "execute_result",
          "data": {
            "text/plain": [
              "array([ 49553,  52696,  74591,  78528,  78680,  83058,  84919,  85622,\n",
              "       131358, 133343, 136519, 137218, 175327, 177237, 184278, 208469,\n",
              "       208625, 210629, 223231, 225196, 238926, 241229, 249631, 255811,\n",
              "       258954, 262479, 316958, 350927, 375830, 389557, 391548, 393448,\n",
              "       415551])"
            ]
          },
          "metadata": {
            "tags": []
          },
          "execution_count": 70
        }
      ]
    },
    {
      "cell_type": "code",
      "metadata": {
        "id": "2jupyk4GwQWm",
        "colab_type": "code",
        "outputId": "955a8f71-02cf-48d1-dd19-3bb6ee3040e8",
        "colab": {
          "base_uri": "https://localhost:8080/",
          "height": 303
        }
      },
      "source": [
        "t = range(nbatches*batchSize_rnn*seql_rnn*ninputs)\n",
        "plt.plot(t[49000:54000],predictions1D[49000:54000]-2,'b',t[49000:54000],peaks[49000:54000],'g')"
      ],
      "execution_count": 46,
      "outputs": [
        {
          "output_type": "execute_result",
          "data": {
            "text/plain": [
              "[<matplotlib.lines.Line2D at 0x7fbd06380908>,\n",
              " <matplotlib.lines.Line2D at 0x7fbd06380a58>]"
            ]
          },
          "metadata": {
            "tags": []
          },
          "execution_count": 46
        },
        {
          "output_type": "display_data",
          "data": {
            "image/png": "[encoded data removed]",
            "text/plain": [
              "<Figure size 432x288 with 1 Axes>"
            ]
          },
          "metadata": {
            "tags": []
          }
        }
      ]
    },
    {
      "cell_type": "markdown",
      "metadata": {
        "id": "-SMVp1dPoYHN",
        "colab_type": "text"
      },
      "source": [
        "## Compare predicted peaks with annotations\n",
        "\n",
        "We now compare our predicted peaks (after postprocessing) with the labelled peaks to determine the number of peaks correctly classified by our network."
      ]
    },
    {
      "cell_type": "code",
      "metadata": {
        "id": "i65ldSjWM4-K",
        "colab_type": "code",
        "colab": {
          "base_uri": "https://localhost:8080/",
          "height": 170
        },
        "outputId": "7e4e94e4-f4a6-4880-c00c-f58ff6a5cd97"
      },
      "source": [
        "comparitor = compare_annotations(targets_peak_locs_above_th, peak_locs_above_th, 5, signal=None)\n",
        "comparitor.print_summary()"
      ],
      "execution_count": 47,
      "outputs": [
        {
          "output_type": "stream",
          "text": [
            "1249 reference annotations, 33 test annotations\n",
            "\n",
            "True Positives (matched samples): 31\n",
            "False Positives (unmatched test samples: 2\n",
            "False Negatives (unmatched reference samples): 1218\n",
            "\n",
            "Specificity: 0.0248 (31/1249)\n",
            "Positive Predictivity: 0.9394 (31/33)\n",
            "False Positive Rate: 0.0606 (2/33)\n"
          ],
          "name": "stdout"
        }
      ]
    },
    {
      "cell_type": "markdown",
      "metadata": {
        "id": "U0hloy5W7Dxe",
        "colab_type": "text"
      },
      "source": [
        "# Feedforward network\n",
        "\n",
        "The architecture of the Feedforward network is designed below, similarly to what was done for the RNN."
      ]
    },
    {
      "cell_type": "code",
      "metadata": {
        "id": "3uvHOwSd7HI3",
        "colab_type": "code",
        "colab": {
          "base_uri": "https://localhost:8080/",
          "height": 544
        },
        "outputId": "2f92cd58-21b7-4ab2-9616-9f4e95a051df"
      },
      "source": [
        "ffwdModel = tf.keras.Sequential()\n",
        "ffwdModel.add(layers.Dense(64, activation='relu',input_shape=(2*seqL*ninputs,)))\n",
        "ffwdModel.add(layers.Dense(64, activation='relu'))\n",
        "ffwdModel.add(layers.Dense(64, activation='relu'))\n",
        "ffwdModel.add(layers.Dense(seqL*ninputs))\n",
        "\n",
        "ffwdModel.compile(optimizer=tf.train.RMSPropOptimizer(0.001), loss='MSE',metrics=['mae'])\n",
        "ffwdModel.fit(trainData,  epochs=15, steps_per_epoch=1000, validation_data=valData, validation_steps=100)"
      ],
      "execution_count": 58,
      "outputs": [
        {
          "output_type": "stream",
          "text": [
            "Epoch 1/15\n",
            "1000/1000 [==============================] - 4s 4ms/step - loss: 0.0128 - mean_absolute_error: 0.0272 - val_loss: 0.0100 - val_mean_absolute_error: 0.0260\n",
            "Epoch 2/15\n",
            "1000/1000 [==============================] - 4s 4ms/step - loss: 0.0126 - mean_absolute_error: 0.0283 - val_loss: 0.0102 - val_mean_absolute_error: 0.0325\n",
            "Epoch 3/15\n",
            "1000/1000 [==============================] - 4s 4ms/step - loss: 0.0124 - mean_absolute_error: 0.0308 - val_loss: 0.0102 - val_mean_absolute_error: 0.0352\n",
            "Epoch 4/15\n",
            "1000/1000 [==============================] - 4s 4ms/step - loss: 0.0122 - mean_absolute_error: 0.0316 - val_loss: 0.0102 - val_mean_absolute_error: 0.0351\n",
            "Epoch 5/15\n",
            "1000/1000 [==============================] - 4s 4ms/step - loss: 0.0123 - mean_absolute_error: 0.0317 - val_loss: 0.0102 - val_mean_absolute_error: 0.0338\n",
            "Epoch 6/15\n",
            "1000/1000 [==============================] - 4s 4ms/step - loss: 0.0122 - mean_absolute_error: 0.0315 - val_loss: 0.0104 - val_mean_absolute_error: 0.0352\n",
            "Epoch 7/15\n",
            "1000/1000 [==============================] - 4s 4ms/step - loss: 0.0122 - mean_absolute_error: 0.0312 - val_loss: 0.0105 - val_mean_absolute_error: 0.0361\n",
            "Epoch 8/15\n",
            "1000/1000 [==============================] - 4s 4ms/step - loss: 0.0123 - mean_absolute_error: 0.0310 - val_loss: 0.0106 - val_mean_absolute_error: 0.0384\n",
            "Epoch 9/15\n",
            "1000/1000 [==============================] - 4s 4ms/step - loss: 0.0122 - mean_absolute_error: 0.0307 - val_loss: 0.0106 - val_mean_absolute_error: 0.0350\n",
            "Epoch 10/15\n",
            "1000/1000 [==============================] - 4s 4ms/step - loss: 0.0122 - mean_absolute_error: 0.0306 - val_loss: 0.0106 - val_mean_absolute_error: 0.0356\n",
            "Epoch 11/15\n",
            "1000/1000 [==============================] - 4s 4ms/step - loss: 0.0122 - mean_absolute_error: 0.0303 - val_loss: 0.0107 - val_mean_absolute_error: 0.0394\n",
            "Epoch 12/15\n",
            "1000/1000 [==============================] - 4s 4ms/step - loss: 0.0122 - mean_absolute_error: 0.0301 - val_loss: 0.0105 - val_mean_absolute_error: 0.0333\n",
            "Epoch 13/15\n",
            "1000/1000 [==============================] - 4s 4ms/step - loss: 0.0122 - mean_absolute_error: 0.0300 - val_loss: 0.0107 - val_mean_absolute_error: 0.0408\n",
            "Epoch 14/15\n",
            "1000/1000 [==============================] - 4s 4ms/step - loss: 0.0121 - mean_absolute_error: 0.0298 - val_loss: 0.0106 - val_mean_absolute_error: 0.0377\n",
            "Epoch 15/15\n",
            "1000/1000 [==============================] - 4s 4ms/step - loss: 0.0121 - mean_absolute_error: 0.0297 - val_loss: 0.0105 - val_mean_absolute_error: 0.0380\n"
          ],
          "name": "stdout"
        },
        {
          "output_type": "execute_result",
          "data": {
            "text/plain": [
              "<tensorflow.python.keras.callbacks.History at 0x7fbc9f3a4be0>"
            ]
          },
          "metadata": {
            "tags": []
          },
          "execution_count": 58
        }
      ]
    },
    {
      "cell_type": "code",
      "metadata": {
        "id": "DsLEr85nSfUh",
        "colab_type": "code",
        "colab": {}
      },
      "source": [
        "# Saving the network weights\n",
        "ffwd_weights_file_path = weights_path + 'FFWD_weights.h5'\n",
        "ffwdModel.save_weights(ffwd_weights_file_path)"
      ],
      "execution_count": 0,
      "outputs": []
    },
    {
      "cell_type": "code",
      "metadata": {
        "id": "4ZoXNrZlS94a",
        "colab_type": "code",
        "colab": {}
      },
      "source": [
        "ffwdModel.load_weights(ffwd_weights_file_path)"
      ],
      "execution_count": 0,
      "outputs": []
    },
    {
      "cell_type": "markdown",
      "metadata": {
        "id": "crBNa3GNTk1s",
        "colab_type": "text"
      },
      "source": [
        "## Predict - FFWD\n",
        "\n",
        "This process is analog to what was done for the RNN."
      ]
    },
    {
      "cell_type": "code",
      "metadata": {
        "id": "Ef31yOx1mPe4",
        "colab_type": "code",
        "colab": {
          "base_uri": "https://localhost:8080/",
          "height": 187
        },
        "outputId": "f914e40a-f709-46fe-bbf5-64eb9ae3b2e7"
      },
      "source": [
        "ffwd_predictions, ffwd_targets = get_preds_targets(testData, ffwdModel)\n",
        "ffwd_targets1D = np.reshape(ffwd_targets,(nbatches*batchSize*seqL * ninputs))\n",
        "ffwd_predictions1D = np.reshape(ffwd_predictions,(nbatches*batchSize*seqL * ninputs))"
      ],
      "execution_count": 78,
      "outputs": [
        {
          "output_type": "stream",
          "text": [
            "Getting batch 0\n",
            "Getting batch 1\n",
            "Getting batch 2\n",
            "Getting batch 3\n",
            "Getting batch 4\n",
            "Getting batch 5\n",
            "Getting batch 6\n",
            "Getting batch 7\n",
            "Getting batch 8\n",
            "Getting batch 9\n"
          ],
          "name": "stdout"
        }
      ]
    },
    {
      "cell_type": "markdown",
      "metadata": {
        "id": "HtdPqUMoUrLu",
        "colab_type": "text"
      },
      "source": [
        "## Posprocessing\n",
        "\n",
        "Postprocessing of the predicted peaks."
      ]
    },
    {
      "cell_type": "code",
      "metadata": {
        "id": "wo56cKuCk9Ys",
        "colab_type": "code",
        "colab": {
          "base_uri": "https://localhost:8080/",
          "height": 34
        },
        "outputId": "617647f9-af46-4157-9067-69e4d94fc077"
      },
      "source": [
        "ffwd_peak_locs_above_th, ffwd_targets_peak_locs_above_th = get_peaks(ffwd_predictions1D,ffwd_targets1D)\n",
        "ffwd_peak_locs_above_th"
      ],
      "execution_count": 80,
      "outputs": [
        {
          "output_type": "execute_result",
          "data": {
            "text/plain": [
              "array([63253, 72253])"
            ]
          },
          "metadata": {
            "tags": []
          },
          "execution_count": 80
        }
      ]
    },
    {
      "cell_type": "code",
      "metadata": {
        "id": "T2LC5f23WQY3",
        "colab_type": "code",
        "colab": {
          "base_uri": "https://localhost:8080/",
          "height": 303
        },
        "outputId": "2bba24bb-0763-43e8-e575-9359c265be77"
      },
      "source": [
        "ffwd_t = range(nbatches*batchSize*seqL*ninputs)\n",
        "plt.plot(ffwd_t[23000:60000],ffwd_predictions1D[23000:60000]-2,'b',ffwd_t[23000:60000],ffwd_peaks[23000:60000],'g')"
      ],
      "execution_count": 81,
      "outputs": [
        {
          "output_type": "execute_result",
          "data": {
            "text/plain": [
              "[<matplotlib.lines.Line2D at 0x7fbc802739b0>,\n",
              " <matplotlib.lines.Line2D at 0x7fbc80273b00>]"
            ]
          },
          "metadata": {
            "tags": []
          },
          "execution_count": 81
        },
        {
          "output_type": "display_data",
          "data": {
            "image/png": "[encoded data removed]",
            "text/plain": [
              "<Figure size 432x288 with 1 Axes>"
            ]
          },
          "metadata": {
            "tags": []
          }
        }
      ]
    },
    {
      "cell_type": "markdown",
      "metadata": {
        "id": "gio1ysGZpNWA",
        "colab_type": "text"
      },
      "source": [
        "## Compare predicted peaks with annotations"
      ]
    },
    {
      "cell_type": "code",
      "metadata": {
        "id": "c7LO1AsVVrWg",
        "colab_type": "code",
        "colab": {
          "base_uri": "https://localhost:8080/",
          "height": 170
        },
        "outputId": "1e3a67da-cbfc-49dd-eaa4-4bb625194d3c"
      },
      "source": [
        "ffwd_comparitor = compare_annotations(ffwd_targets_peak_locs_above_th, ffwd_peak_locs_above_th, 5, signal=None)\n",
        "ffwd_comparitor.print_summary()"
      ],
      "execution_count": 82,
      "outputs": [
        {
          "output_type": "stream",
          "text": [
            "393 reference annotations, 2 test annotations\n",
            "\n",
            "True Positives (matched samples): 2\n",
            "False Positives (unmatched test samples: 0\n",
            "False Negatives (unmatched reference samples): 391\n",
            "\n",
            "Specificity: 0.0051 (2/393)\n",
            "Positive Predictivity: 1.0000 (2/2)\n",
            "False Positive Rate: 0.0000 (0/2)\n"
          ],
          "name": "stdout"
        }
      ]
    }
  ]
}