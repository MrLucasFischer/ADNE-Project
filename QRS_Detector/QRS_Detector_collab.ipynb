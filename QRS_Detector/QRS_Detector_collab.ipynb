{
  "nbformat": 4,
  "nbformat_minor": 0,
  "metadata": {
    "colab": {
      "name": "QRS_Detector_collab.ipynb",
      "version": "0.3.2",
      "provenance": [],
      "collapsed_sections": []
    },
    "kernelspec": {
      "name": "python3",
      "display_name": "Python 3"
    },
    "accelerator": "GPU"
  },
  "cells": [
    {
      "cell_type": "markdown",
      "metadata": {
        "id": "N7GJ9TLwzVSj",
        "colab_type": "text"
      },
      "source": [
        "# QRS Detector\n",
        "\n",
        "This notebook implements the actual QRS Detector. In this notebook there are two networks present, a fully conected feed forward network and a recurrent network, with the aim of comparing the two models and verifying which is more indicated for the type of data we have"
      ]
    },
    {
      "cell_type": "code",
      "metadata": {
        "id": "ZhmQIcyWzhNI",
        "colab_type": "code",
        "colab": {}
      },
      "source": [
        "# importing required libraries\n",
        "import numpy as np\n",
        "import tensorflow as tf\n",
        "from tensorflow.python.keras import layers\n",
        "import matplotlib.pyplot as plt\n",
        "import pickle as pkl\n",
        "import random\n",
        "import math\n",
        "\n",
        "#!pip install wfdb\n",
        "import wfdb\n",
        "from wfdb.processing import find_local_peaks\n",
        "from wfdb.processing import compare_annotations"
      ],
      "execution_count": 0,
      "outputs": []
    },
    {
      "cell_type": "code",
      "metadata": {
        "id": "jId_h31027mB",
        "colab_type": "code",
        "colab": {
          "base_uri": "https://localhost:8080/",
          "height": 34
        },
        "outputId": "54a7b008-546e-4262-b248-63e6139b0dba"
      },
      "source": [
        "from google.colab import drive\n",
        "drive.mount('/content/drive/')\n",
        "from glob import glob"
      ],
      "execution_count": 2,
      "outputs": [
        {
          "output_type": "stream",
          "text": [
            "Drive already mounted at /content/drive/; to attempt to forcibly remount, call drive.mount(\"/content/drive/\", force_remount=True).\n"
          ],
          "name": "stdout"
        }
      ]
    },
    {
      "cell_type": "markdown",
      "metadata": {
        "id": "szVqmJnava5J",
        "colab_type": "text"
      },
      "source": [
        "This part describes the location of the data files. The processed data files shoud be placed in a folder inside google Drive and the path for that folder shoud be specified in `main_path`"
      ]
    },
    {
      "cell_type": "code",
      "metadata": {
        "id": "h1CJ9K5821yC",
        "colab_type": "code",
        "outputId": "0733eb7f-e22f-471d-b0c0-5ab4c6747438",
        "colab": {
          "base_uri": "https://localhost:8080/",
          "height": 63
        }
      },
      "source": [
        "!ls drive/'My Drive'/'Colab Notebooks'/processed_data\n",
        "main_path = 'drive/My Drive/Colab Notebooks/processed_data/'\n",
        "weights_path = 'drive/My Drive/Colab Notebooks/network_weights/'"
      ],
      "execution_count": 3,
      "outputs": [
        {
          "output_type": "stream",
          "text": [
            "Test  Training\n"
          ],
          "name": "stdout"
        }
      ]
    },
    {
      "cell_type": "markdown",
      "metadata": {
        "id": "UVBz9RZmzmB4",
        "colab_type": "text"
      },
      "source": [
        "## Sampling Function\n",
        "\n",
        "The objective is to retrieve a random cropping of both the signal and the target from all files specified for the training/validation set. This helps us have a more well-versed dataset for training and validating our models."
      ]
    },
    {
      "cell_type": "code",
      "metadata": {
        "id": "LSfAr_ABzq7s",
        "colab_type": "code",
        "colab": {}
      },
      "source": [
        "# auxiliary function\n",
        "# extracts from a long np-array (2-rows) a (2-rows)-random segment with a fixed length (seqL*ninputs)\n",
        "def selectFrom1ecg(ecgBdata, seqL, ninputs, feed_forward = True, training = True, testing = False):\n",
        "    \"\"\"\n",
        "    x: An array with vairous files, channels and examples\n",
        "    seqL:  number of timesteps to be used in recurrent nn\n",
        "    ninput : is number of inputs in each timestep\n",
        "    file_indexes: A list of the file indexes for training or validation set\n",
        "    \"\"\"\n",
        "    segmentL  = seqL * ninputs\n",
        "    numChan = 3\n",
        "    \n",
        "    if(training):\n",
        "        random_file_idx = random.randint(0, 57)\n",
        "    else:\n",
        "        random_file_idx = random.randint(0, 9)\n",
        "    \n",
        "    if(testing):\n",
        "        random_file_idx = random.randint(0, 48)\n",
        "    \n",
        "    inpOutSegment = tf.random_crop(ecgBdata[random_file_idx],[numChan, segmentL])\n",
        "\n",
        "    \n",
        "    if(feed_forward):\n",
        "        channelII = inpOutSegment[0,:]\n",
        "        channelV1 = inpOutSegment[1,:]\n",
        "        target = inpOutSegment[2,:]\n",
        "        inputs = tf.concat((channelII, channelV1), axis = -1)\n",
        "        return inputs,target\n",
        "    else:\n",
        "        transposed = tf.transpose(inpOutSegment)\n",
        "        \n",
        "        inputs = transposed[:, :-1]\n",
        "        target = transposed[:, -1]\n",
        "        inputs = tf.reshape(inputs, (seqL, -1))\n",
        "        \n",
        "        # We need to re-transpose the target to turn int back into a one-row vector\n",
        "        target = tf.transpose(target)\n",
        "                \n",
        "        return inputs, target"
      ],
      "execution_count": 0,
      "outputs": []
    },
    {
      "cell_type": "markdown",
      "metadata": {
        "id": "PxL8mgKIzuB7",
        "colab_type": "text"
      },
      "source": [
        "## Dataset array creation\n",
        "\n",
        "In this section we create the main dataset array containing all the training files. Each file has two input signals (channelII and channelV1) and a target signal."
      ]
    },
    {
      "cell_type": "code",
      "metadata": {
        "id": "tDltqghDzu9y",
        "colab_type": "code",
        "colab": {}
      },
      "source": [
        "dataset_array = []\n",
        "\n",
        "files_not_to_read = [4,17,35,44,57,72,74]\n",
        "index_counter = 0\n",
        "for i in range(1, 76):\n",
        "    \n",
        "    if i not in files_not_to_read:\n",
        "        file_path = f\"Training/I{i:02}\"\n",
        "        file_path = main_path + file_path\n",
        "        file_data = pkl.load(open(file_path, \"rb\"))        \n",
        "        index_counter = index_counter + 1\n",
        "        \n",
        "        info = [file_data[\"channelII\"], file_data[\"channelV1\"], file_data[\"label\"]]\n",
        "        info = np.array(info)\n",
        "        info = info.astype(np.float32)\n",
        "        dataset_array.append(info)\n",
        "\n",
        "ecgs_array = np.array(dataset_array)"
      ],
      "execution_count": 0,
      "outputs": []
    },
    {
      "cell_type": "markdown",
      "metadata": {
        "id": "ue13qeU2xFA8",
        "colab_type": "text"
      },
      "source": [
        "### Parameters for networks"
      ]
    },
    {
      "cell_type": "code",
      "metadata": {
        "id": "-NENnHxrxDyN",
        "colab_type": "code",
        "colab": {
          "base_uri": "https://localhost:8080/",
          "height": 170
        },
        "outputId": "d3cca7e1-81bc-48ba-9a4c-4c7670cb57e5"
      },
      "source": [
        "# Sampling frequency\n",
        "fs = 360\n",
        "\n",
        "# For each timestep we give ninputs\n",
        "ninputs = int(0.2*fs)\n",
        "\n",
        "# Sequence length (number of timesteps)\n",
        "seqL = int((5 * 360)/ninputs) # Using a 5 second window sequence\n",
        "\n",
        "\n",
        "print('FFWD network parameters')\n",
        "print('ninputs = ',ninputs)\n",
        "print('seqL = ',seqL)\n",
        "print('ninputs*seqL = ',ninputs*seqL)\n",
        "\n",
        "seql_rnn = 3 * seqL\n",
        "\n",
        "print(\" \")\n",
        "print('RNN network parameters')\n",
        "print('ninputs = ',ninputs)\n",
        "print('seqL(rnn) = ',seql_rnn)\n",
        "print('ninputs*seqL(rnn) = ',ninputs*seql_rnn)\n",
        "\n"
      ],
      "execution_count": 6,
      "outputs": [
        {
          "output_type": "stream",
          "text": [
            "FFWD network parameters\n",
            "ninputs =  72\n",
            "seqL =  25\n",
            "ninputs*seqL =  1800\n",
            " \n",
            "RNN network parameters\n",
            "ninputs =  72\n",
            "seqL(rnn) =  75\n",
            "ninputs*seqL(rnn) =  5400\n"
          ],
          "name": "stdout"
        }
      ]
    },
    {
      "cell_type": "markdown",
      "metadata": {
        "id": "fu0bgq8Bz4P_",
        "colab_type": "text"
      },
      "source": [
        "## Test dataset array creation\n",
        "\n",
        "In this section we create the test dataset array containing all the test files. Each file has two input signals (\"MLII\",\"V1\", which correspond to signals \"II\" and \"V1\" in the training dataset) and a target signal."
      ]
    },
    {
      "cell_type": "code",
      "metadata": {
        "id": "NucVTffzz45Z",
        "colab_type": "code",
        "colab": {}
      },
      "source": [
        "test_dataset_array = []\n",
        "\n",
        "files_not_to_read = [110, 120, 204, 206, 211, 216, 218, 229]\n",
        "files_not_to_read = files_not_to_read + list(range(125,200)) + list(range(224,228))\n",
        "\n",
        "index_counter = 0\n",
        "for i in range(100, 235):\n",
        "    \n",
        "    if i not in files_not_to_read:\n",
        "        file_path = f\"Test/{i}\"\n",
        "        file_path = main_path + file_path\n",
        "        file_data = pkl.load(open(file_path, \"rb\"))        \n",
        "        index_counter = index_counter + 1\n",
        "        \n",
        "        info = [file_data[\"channelII\"], file_data[\"channelV1\"], file_data[\"label\"]]\n",
        "        info = np.array(info)\n",
        "        info = info.astype(np.float32)\n",
        "        test_dataset_array.append(info)\n",
        "\n",
        "test_ecgs_array = np.array(test_dataset_array)\n",
        "\n",
        "# Test dataset length is not a multiple of 2*ninputs*seqL(rnn) which causes problems when we want to\n",
        "# transpose the data as before, so we discard the last 2000 points \n",
        "# The test dataset will then have the same length as the training dataset\n",
        "lenRecords = test_ecgs_array.shape[2]\n",
        "new_length = int(math.floor(lenRecords/(ninputs*seql_rnn))*(ninputs*seql_rnn))\n",
        "test_ecgs_array = test_ecgs_array[:,:,:new_length]"
      ],
      "execution_count": 0,
      "outputs": []
    },
    {
      "cell_type": "code",
      "metadata": {
        "id": "IZgCJQX161SF",
        "colab_type": "code",
        "outputId": "97d51ec6-6839-4959-9315-5f9f3ecde01c",
        "colab": {
          "base_uri": "https://localhost:8080/",
          "height": 128
        }
      },
      "source": [
        "# number of examples\n",
        "N = ecgs_array.shape[2]\n",
        "\n",
        "# training data for feed forward network\n",
        "# Create efficient training sequences\n",
        "trainData = tf.data.Dataset.from_tensors(ecgs_array[:len(ecgs_array) - 10, :, :])\n",
        "trainData = trainData.map(lambda x:  selectFrom1ecg(x, seqL, ninputs, training = True))\n",
        "trainData = trainData.repeat()  # Repeat the input indefinitely.\n",
        "batchSize = 8\n",
        "trainData = trainData.batch(batchSize)\n",
        "\n",
        "valData = tf.data.Dataset.from_tensors(ecgs_array[len(ecgs_array) - 10:, :, :])\n",
        "valData = valData.map(lambda x:  selectFrom1ecg(x, seqL, ninputs, training = False))\n",
        "valData = valData.repeat()  # Repeat the input indefinitely.\n",
        "batchSize = 8\n",
        "valData = valData.batch(batchSize)\n",
        "\n",
        "# test data for feed forward network (here we don't need to leave out the 10 files)\n",
        "testData = tf.data.Dataset.from_tensors(test_ecgs_array)\n",
        "testData = testData.map(lambda x:  selectFrom1ecg(x, seqL, ninputs, training = False, testing = True))\n",
        "testData = testData.repeat()  # Repeat the input indefinitely.\n",
        "batchSize = 8\n",
        "testData = testData.batch(batchSize)\n",
        "\n",
        "\n",
        "# Creating Training and Validation datasets with the correct shape for a Recurrent neural network\n",
        "# The sequence length for the recurrent neural network can be about 3 times greater than for the feed\n",
        "# forward neural net\n",
        "\n",
        "\n",
        "trainData_rnn = tf.data.Dataset.from_tensors(ecgs_array[:len(ecgs_array) - 10, :, :])\n",
        "trainData_rnn = trainData_rnn.map(lambda x:  selectFrom1ecg(x, seql_rnn, ninputs, training = True, feed_forward = False))\n",
        "trainData_rnn = trainData_rnn.repeat()  # Repeat the input indefinitely.\n",
        "batchSize_rnn = 8\n",
        "trainData_rnn = trainData_rnn.batch(batchSize_rnn)\n",
        "\n",
        "valData_rnn = tf.data.Dataset.from_tensors(ecgs_array[len(ecgs_array) - 10:, :, :])\n",
        "valData_rnn = valData_rnn.map(lambda x:  selectFrom1ecg(x, seql_rnn, ninputs, training = False, feed_forward = False))\n",
        "valData_rnn = valData_rnn.repeat()  # Repeat the input indefinitely.\n",
        "batchSize_rnn = 8\n",
        "valData_rnn = valData_rnn.batch(batchSize_rnn)\n",
        "\n",
        "\n",
        "# test data for feed forward network (here we don't need to leave out the 10 files)\n",
        "testData_rnn = tf.data.Dataset.from_tensors(test_ecgs_array)\n",
        "testData_rnn = testData_rnn.map(lambda x:  selectFrom1ecg(x, seql_rnn, ninputs, training = False, feed_forward = False, testing = True))\n",
        "testData_rnn = testData_rnn.repeat()  # Repeat the input indefinitely.\n",
        "batchSize = 8\n",
        "testData_rnn = testData_rnn.batch(batchSize)"
      ],
      "execution_count": 8,
      "outputs": [
        {
          "output_type": "stream",
          "text": [
            "WARNING:tensorflow:From /usr/local/lib/python3.6/dist-packages/tensorflow/python/ops/control_flow_ops.py:3632: colocate_with (from tensorflow.python.framework.ops) is deprecated and will be removed in a future version.\n",
            "Instructions for updating:\n",
            "Colocations handled automatically by placer.\n"
          ],
          "name": "stdout"
        }
      ]
    },
    {
      "cell_type": "markdown",
      "metadata": {
        "id": "kDLVG3AG7iAh",
        "colab_type": "text"
      },
      "source": [
        "# Recurrent neural network\n",
        "\n",
        "In this subsection we define the architecture for the RNN. We are using 4 LSTM layers with GPU support.\n",
        "After fitting our RNN we save the model weights to be able to reuse them without retraining the network."
      ]
    },
    {
      "cell_type": "code",
      "metadata": {
        "id": "WOVz39jL7k93",
        "colab_type": "code",
        "outputId": "8cb7f78b-739a-4276-a4f5-16208d24d6f9",
        "colab": {
          "base_uri": "https://localhost:8080/",
          "height": 1020
        }
      },
      "source": [
        "numLstmUnits = 320\n",
        "\n",
        "rnnModel = tf.keras.Sequential()\n",
        "rnnModel.add(layers.CuDNNLSTM(units=numLstmUnits, return_sequences=True, input_shape = (seql_rnn, 2 * ninputs)))         \n",
        "rnnModel.add(layers.CuDNNLSTM(units=numLstmUnits, return_sequences=True))\n",
        "rnnModel.add(layers.CuDNNLSTM(units=numLstmUnits, return_sequences=True))         \n",
        "rnnModel.add(layers.CuDNNLSTM(units=numLstmUnits, return_sequences=True))\n",
        "rnnModel.add(layers.TimeDistributed(layers.Dense(ninputs)))\n",
        "rnnModel.add(layers.Reshape((seql_rnn * ninputs, )))\n",
        "\n",
        "rnnModel.compile(optimizer=tf.train.RMSPropOptimizer(0.001), loss='MSE',metrics=['mae'])\n",
        "\n",
        "#rnnModel.fit(trainData_rnn,  epochs=15, steps_per_epoch=1000, validation_data=valData_rnn, validation_steps=100)"
      ],
      "execution_count": 14,
      "outputs": [
        {
          "output_type": "stream",
          "text": [
            "WARNING:tensorflow:From /usr/local/lib/python3.6/dist-packages/tensorflow/python/ops/math_ops.py:3066: to_int32 (from tensorflow.python.ops.math_ops) is deprecated and will be removed in a future version.\n",
            "Instructions for updating:\n",
            "Use tf.cast instead.\n",
            "Epoch 1/15\n",
            "1000/1000 [==============================] - 27s 27ms/step - loss: 0.0175 - mean_absolute_error: 0.0382 - val_loss: 0.0105 - val_mean_absolute_error: 0.0476\n",
            "Epoch 2/15\n",
            "1000/1000 [==============================] - 24s 24ms/step - loss: 0.0125 - mean_absolute_error: 0.0493 - val_loss: 0.0078 - val_mean_absolute_error: 0.0424\n",
            "Epoch 3/15\n",
            "1000/1000 [==============================] - 24s 24ms/step - loss: 0.0042 - mean_absolute_error: 0.0257 - val_loss: 0.0086 - val_mean_absolute_error: 0.0366\n",
            "Epoch 4/15\n",
            "1000/1000 [==============================] - 24s 24ms/step - loss: 0.0032 - mean_absolute_error: 0.0177 - val_loss: 0.0081 - val_mean_absolute_error: 0.0327\n",
            "Epoch 5/15\n",
            "1000/1000 [==============================] - 24s 24ms/step - loss: 0.0030 - mean_absolute_error: 0.0157 - val_loss: 0.0080 - val_mean_absolute_error: 0.0307\n",
            "Epoch 6/15\n",
            "1000/1000 [==============================] - 25s 25ms/step - loss: 0.0030 - mean_absolute_error: 0.0147 - val_loss: 0.0080 - val_mean_absolute_error: 0.0290\n",
            "Epoch 7/15\n",
            "1000/1000 [==============================] - 25s 25ms/step - loss: 0.0029 - mean_absolute_error: 0.0141 - val_loss: 0.0081 - val_mean_absolute_error: 0.0281\n",
            "Epoch 8/15\n",
            "1000/1000 [==============================] - 25s 25ms/step - loss: 0.0028 - mean_absolute_error: 0.0136 - val_loss: 0.0080 - val_mean_absolute_error: 0.0275\n",
            "Epoch 9/15\n",
            "1000/1000 [==============================] - 25s 25ms/step - loss: 0.0028 - mean_absolute_error: 0.0133 - val_loss: 0.0078 - val_mean_absolute_error: 0.0266\n",
            "Epoch 10/15\n",
            "1000/1000 [==============================] - 25s 25ms/step - loss: 0.0027 - mean_absolute_error: 0.0131 - val_loss: 0.0075 - val_mean_absolute_error: 0.0257\n",
            "Epoch 11/15\n",
            "1000/1000 [==============================] - 25s 25ms/step - loss: 0.0027 - mean_absolute_error: 0.0129 - val_loss: 0.0071 - val_mean_absolute_error: 0.0254\n",
            "Epoch 12/15\n",
            "1000/1000 [==============================] - 25s 25ms/step - loss: 0.0027 - mean_absolute_error: 0.0127 - val_loss: 0.0069 - val_mean_absolute_error: 0.0252\n",
            "Epoch 13/15\n",
            "1000/1000 [==============================] - 25s 25ms/step - loss: 0.0026 - mean_absolute_error: 0.0124 - val_loss: 0.0070 - val_mean_absolute_error: 0.0250\n",
            "Epoch 14/15\n",
            "1000/1000 [==============================] - 25s 25ms/step - loss: 0.0026 - mean_absolute_error: 0.0123 - val_loss: 0.0069 - val_mean_absolute_error: 0.0244\n",
            "Epoch 15/15\n",
            "1000/1000 [==============================] - 25s 25ms/step - loss: 0.0025 - mean_absolute_error: 0.0122 - val_loss: 0.0068 - val_mean_absolute_error: 0.0247\n"
          ],
          "name": "stdout"
        },
        {
          "output_type": "execute_result",
          "data": {
            "text/plain": [
              "<tensorflow.python.keras.callbacks.History at 0x7ff3fb6a2668>"
            ]
          },
          "metadata": {
            "tags": []
          },
          "execution_count": 14
        }
      ]
    },
    {
      "cell_type": "code",
      "metadata": {
        "id": "luhm5ivH-ywS",
        "colab_type": "code",
        "colab": {}
      },
      "source": [
        "weights_file_path_8layers = weights_path + 'RNN_weights_8layers.h5'\n",
        "weights_file_path = weights_path + 'RNN_weights.h5'"
      ],
      "execution_count": 0,
      "outputs": []
    },
    {
      "cell_type": "code",
      "metadata": {
        "id": "mOWmzZLOGLzl",
        "colab_type": "code",
        "colab": {}
      },
      "source": [
        "# Saving the network weights\n",
        "rnnModel.save_weights(weights_file_path)\n",
        "#rnnModel.save_weights(weights_file_path_8layers)"
      ],
      "execution_count": 0,
      "outputs": []
    },
    {
      "cell_type": "code",
      "metadata": {
        "id": "PgoIa41xZij8",
        "colab_type": "code",
        "colab": {}
      },
      "source": [
        "rnnModel.load_weights(weights_file_path)"
      ],
      "execution_count": 0,
      "outputs": []
    },
    {
      "cell_type": "markdown",
      "metadata": {
        "id": "dGzZlhTEayMv",
        "colab_type": "text"
      },
      "source": [
        "## Predict - RNN\n",
        "\n",
        "This section is dedicated to generate the predictions of our RNN model. We first consider ten batches and obtain the predictions for them."
      ]
    },
    {
      "cell_type": "code",
      "metadata": {
        "id": "4y9E6NK3bsY9",
        "colab_type": "code",
        "colab": {}
      },
      "source": [
        "#output = rnnModel.predict(testData_rnn,steps=1000)\n",
        "#print(output.shape)"
      ],
      "execution_count": 0,
      "outputs": []
    },
    {
      "cell_type": "code",
      "metadata": {
        "id": "2EgZjsXrGhre",
        "colab_type": "code",
        "colab": {}
      },
      "source": [
        "def get_preds_targets(tf_dataset,model,nbatches = 10):\n",
        "  predictions = []\n",
        "  targets = []\n",
        "  \n",
        "\n",
        "  try:\n",
        "    iterator = tf_dataset.make_initializable_iterator()\n",
        "    next_element = iterator.get_next()\n",
        "\n",
        "    for i in range(nbatches):\n",
        "      with tf.Session() as sess:\n",
        "        sess.run(iterator.initializer)\n",
        "        inp, targ = sess.run(next_element)\n",
        "        targets.append(targ)\n",
        "        print(f\"Getting batch {i}\")\n",
        "      output = model.predict(inp)\n",
        "      predictions.append(output)\n",
        "\n",
        "  except:\n",
        "    print('something wrong!')\n",
        "    pass\n",
        "  \n",
        "  return predictions, targets"
      ],
      "execution_count": 0,
      "outputs": []
    },
    {
      "cell_type": "code",
      "metadata": {
        "id": "OIeGeN6SltXM",
        "colab_type": "code",
        "outputId": "1d66cf1a-b9ee-4787-8068-9cf903220c10",
        "colab": {
          "base_uri": "https://localhost:8080/",
          "height": 1717
        }
      },
      "source": [
        "nbatches = 100\n",
        "predictions, targets = get_preds_targets(testData_rnn, rnnModel,nbatches)\n",
        "targets1D = np.reshape(targets,(nbatches*batchSize_rnn*seql_rnn * ninputs))\n",
        "predictions1D = np.reshape(predictions,(nbatches*batchSize_rnn*seql_rnn * ninputs))"
      ],
      "execution_count": 56,
      "outputs": [
        {
          "output_type": "stream",
          "text": [
            "Getting batch 0\n",
            "Getting batch 1\n",
            "Getting batch 2\n",
            "Getting batch 3\n",
            "Getting batch 4\n",
            "Getting batch 5\n",
            "Getting batch 6\n",
            "Getting batch 7\n",
            "Getting batch 8\n",
            "Getting batch 9\n",
            "Getting batch 10\n",
            "Getting batch 11\n",
            "Getting batch 12\n",
            "Getting batch 13\n",
            "Getting batch 14\n",
            "Getting batch 15\n",
            "Getting batch 16\n",
            "Getting batch 17\n",
            "Getting batch 18\n",
            "Getting batch 19\n",
            "Getting batch 20\n",
            "Getting batch 21\n",
            "Getting batch 22\n",
            "Getting batch 23\n",
            "Getting batch 24\n",
            "Getting batch 25\n",
            "Getting batch 26\n",
            "Getting batch 27\n",
            "Getting batch 28\n",
            "Getting batch 29\n",
            "Getting batch 30\n",
            "Getting batch 31\n",
            "Getting batch 32\n",
            "Getting batch 33\n",
            "Getting batch 34\n",
            "Getting batch 35\n",
            "Getting batch 36\n",
            "Getting batch 37\n",
            "Getting batch 38\n",
            "Getting batch 39\n",
            "Getting batch 40\n",
            "Getting batch 41\n",
            "Getting batch 42\n",
            "Getting batch 43\n",
            "Getting batch 44\n",
            "Getting batch 45\n",
            "Getting batch 46\n",
            "Getting batch 47\n",
            "Getting batch 48\n",
            "Getting batch 49\n",
            "Getting batch 50\n",
            "Getting batch 51\n",
            "Getting batch 52\n",
            "Getting batch 53\n",
            "Getting batch 54\n",
            "Getting batch 55\n",
            "Getting batch 56\n",
            "Getting batch 57\n",
            "Getting batch 58\n",
            "Getting batch 59\n",
            "Getting batch 60\n",
            "Getting batch 61\n",
            "Getting batch 62\n",
            "Getting batch 63\n",
            "Getting batch 64\n",
            "Getting batch 65\n",
            "Getting batch 66\n",
            "Getting batch 67\n",
            "Getting batch 68\n",
            "Getting batch 69\n",
            "Getting batch 70\n",
            "Getting batch 71\n",
            "Getting batch 72\n",
            "Getting batch 73\n",
            "Getting batch 74\n",
            "Getting batch 75\n",
            "Getting batch 76\n",
            "Getting batch 77\n",
            "Getting batch 78\n",
            "Getting batch 79\n",
            "Getting batch 80\n",
            "Getting batch 81\n",
            "Getting batch 82\n",
            "Getting batch 83\n",
            "Getting batch 84\n",
            "Getting batch 85\n",
            "Getting batch 86\n",
            "Getting batch 87\n",
            "Getting batch 88\n",
            "Getting batch 89\n",
            "Getting batch 90\n",
            "Getting batch 91\n",
            "Getting batch 92\n",
            "Getting batch 93\n",
            "Getting batch 94\n",
            "Getting batch 95\n",
            "Getting batch 96\n",
            "Getting batch 97\n",
            "Getting batch 98\n",
            "Getting batch 99\n"
          ],
          "name": "stdout"
        }
      ]
    },
    {
      "cell_type": "markdown",
      "metadata": {
        "id": "3Azevr0csK32",
        "colab_type": "text"
      },
      "source": [
        "## Postprocessing\n",
        "\n",
        "The predictions of the RNN network are processed to eliminate false peaks (oscillations below a certain threshold). We then use the function find_local_peaks to obtain the peak positions. However, since this function gives false peaks in regions where the signal is flat, we filter its result with the same threshold as before."
      ]
    },
    {
      "cell_type": "code",
      "metadata": {
        "id": "J9-FURnHt27t",
        "colab_type": "code",
        "colab": {}
      },
      "source": [
        "def get_peaks(predictions1D,targets1D):\n",
        "  # First use a threshold to eliminate some smaller peaks\n",
        "  thresh = 0.5\n",
        "  peaks = np.where(predictions1D>thresh, predictions1D, 0)\n",
        "\n",
        "  # Find local peaks in filtered predictions\n",
        "  peak_locs = find_local_peaks(peaks,8)\n",
        "\n",
        "  # Filter peak locations with condition that value of signal there must be \n",
        "  peak_locs_above_th = [p for p in peak_locs if peaks[p] > thresh]\n",
        "\n",
        "  peaks_targets1D = np.where(targets1D>thresh, targets1D, 0)\n",
        "  # Find local peaks in filtered predictions\n",
        "  targets_peak_locs = find_local_peaks(peaks_targets1D,8)\n",
        "  targets_peak_locs_above_th = [p for p in targets_peak_locs if peaks_targets1D[p] > thresh]\n",
        "\n",
        "  targets_peak_locs_above_th = np.array(targets_peak_locs_above_th)\n",
        "  peak_locs_above_th = np.array(peak_locs_above_th)\n",
        "  \n",
        "  return peak_locs_above_th, targets_peak_locs_above_th, peaks  "
      ],
      "execution_count": 0,
      "outputs": []
    },
    {
      "cell_type": "markdown",
      "metadata": {
        "id": "2XtHzwNgoNc-",
        "colab_type": "text"
      },
      "source": [
        "Finding peak indexes for plotting purposes"
      ]
    },
    {
      "cell_type": "code",
      "metadata": {
        "id": "qAckmAeLhvDc",
        "colab_type": "code",
        "outputId": "b65fb313-e188-4e39-8ef0-f059f0becd17",
        "colab": {
          "base_uri": "https://localhost:8080/",
          "height": 34
        }
      },
      "source": [
        "peak_locs_above_th, targets_peak_locs_above_th, peaks = get_peaks(predictions1D,targets1D)\n",
        "peak_locs_above_th"
      ],
      "execution_count": 57,
      "outputs": [
        {
          "output_type": "execute_result",
          "data": {
            "text/plain": [
              "array([    729,    1105,    1508, ..., 4318613, 4318972, 4319691])"
            ]
          },
          "metadata": {
            "tags": []
          },
          "execution_count": 57
        }
      ]
    },
    {
      "cell_type": "code",
      "metadata": {
        "id": "2jupyk4GwQWm",
        "colab_type": "code",
        "outputId": "0c1f9c52-3cb9-4dbe-b10c-691ae8e58acd",
        "colab": {
          "base_uri": "https://localhost:8080/",
          "height": 303
        }
      },
      "source": [
        "t = range(nbatches*batchSize_rnn*seql_rnn*ninputs)\n",
        "plt.plot(t[500:2000],predictions1D[500:2000]-2,'b',t[500:2000],peaks[500:2000],'g')"
      ],
      "execution_count": 59,
      "outputs": [
        {
          "output_type": "execute_result",
          "data": {
            "text/plain": [
              "[<matplotlib.lines.Line2D at 0x7ff3fa41c5c0>,\n",
              " <matplotlib.lines.Line2D at 0x7ff3fa55c1d0>]"
            ]
          },
          "metadata": {
            "tags": []
          },
          "execution_count": 59
        },
        {
          "output_type": "display_data",
          "data": {
            "image/png": "[encoded data removed]",
            "text/plain": [
              "<Figure size 432x288 with 1 Axes>"
            ]
          },
          "metadata": {
            "tags": []
          }
        }
      ]
    },
    {
      "cell_type": "markdown",
      "metadata": {
        "id": "-SMVp1dPoYHN",
        "colab_type": "text"
      },
      "source": [
        "## Compare predicted peaks with annotations\n",
        "\n",
        "We now compare our predicted peaks (after postprocessing) with the labelled peaks to determine the number of peaks correctly classified by our network."
      ]
    },
    {
      "cell_type": "code",
      "metadata": {
        "id": "i65ldSjWM4-K",
        "colab_type": "code",
        "outputId": "b6822d17-60b8-4757-9178-c03785bb8501",
        "colab": {
          "base_uri": "https://localhost:8080/",
          "height": 170
        }
      },
      "source": [
        "comparitor = compare_annotations(targets_peak_locs_above_th, peak_locs_above_th, 5, signal=None)\n",
        "comparitor.print_summary()"
      ],
      "execution_count": 58,
      "outputs": [
        {
          "output_type": "stream",
          "text": [
            "11934 reference annotations, 7743 test annotations\n",
            "\n",
            "True Positives (matched samples): 7731\n",
            "False Positives (unmatched test samples: 12\n",
            "False Negatives (unmatched reference samples): 4203\n",
            "\n",
            "Specificity: 0.6478 (7731/11934)\n",
            "Positive Predictivity: 0.9985 (7731/7743)\n",
            "False Positive Rate: 0.0015 (12/7743)\n"
          ],
          "name": "stdout"
        }
      ]
    },
    {
      "cell_type": "markdown",
      "metadata": {
        "id": "U0hloy5W7Dxe",
        "colab_type": "text"
      },
      "source": [
        "# Feedforward network\n",
        "\n",
        "The architecture of the Feedforward network is designed below, similarly to what was done for the RNN."
      ]
    },
    {
      "cell_type": "code",
      "metadata": {
        "id": "3uvHOwSd7HI3",
        "colab_type": "code",
        "outputId": "11d46206-85ce-4715-9ffc-b30cac48bbc9",
        "colab": {
          "base_uri": "https://localhost:8080/",
          "height": 544
        }
      },
      "source": [
        "ffwdModel = tf.keras.Sequential()\n",
        "ffwdModel.add(layers.Dense(512, activation='relu',input_shape=(2*seqL*ninputs,)))\n",
        "ffwdModel.add(layers.Dense(256, activation='relu'))\n",
        "ffwdModel.add(layers.Dense(256, activation='relu'))\n",
        "ffwdModel.add(layers.Dense(64, activation='relu'))\n",
        "ffwdModel.add(layers.Dense(64, activation='relu'))\n",
        "ffwdModel.add(layers.Dense(seqL*ninputs))\n",
        "\n",
        "ffwdModel.compile(optimizer=tf.train.RMSPropOptimizer(0.001), loss='MSE',metrics=['mae'])\n",
        "ffwdModel.fit(trainData,  epochs=15, steps_per_epoch=2000, validation_data=valData, validation_steps=100)"
      ],
      "execution_count": 67,
      "outputs": [
        {
          "output_type": "stream",
          "text": [
            "Epoch 1/15\n",
            "2000/2000 [==============================] - 8s 4ms/step - loss: 0.0156 - mean_absolute_error: 0.0333 - val_loss: 0.0156 - val_mean_absolute_error: 0.0307\n",
            "Epoch 2/15\n",
            "2000/2000 [==============================] - 7s 4ms/step - loss: 0.0154 - mean_absolute_error: 0.0356 - val_loss: 0.0157 - val_mean_absolute_error: 0.0317\n",
            "Epoch 3/15\n",
            "2000/2000 [==============================] - 7s 4ms/step - loss: 0.0152 - mean_absolute_error: 0.0368 - val_loss: 0.0157 - val_mean_absolute_error: 0.0317\n",
            "Epoch 4/15\n",
            "2000/2000 [==============================] - 7s 4ms/step - loss: 0.0151 - mean_absolute_error: 0.0376 - val_loss: 0.0157 - val_mean_absolute_error: 0.0322\n",
            "Epoch 5/15\n",
            "2000/2000 [==============================] - 7s 4ms/step - loss: 0.0151 - mean_absolute_error: 0.0380 - val_loss: 0.0157 - val_mean_absolute_error: 0.0311\n",
            "Epoch 6/15\n",
            "2000/2000 [==============================] - 7s 4ms/step - loss: 0.0150 - mean_absolute_error: 0.0381 - val_loss: 0.0157 - val_mean_absolute_error: 0.0346\n",
            "Epoch 7/15\n",
            "2000/2000 [==============================] - 7s 4ms/step - loss: 0.0150 - mean_absolute_error: 0.0382 - val_loss: 0.0156 - val_mean_absolute_error: 0.0310\n",
            "Epoch 8/15\n",
            "2000/2000 [==============================] - 7s 4ms/step - loss: 0.0150 - mean_absolute_error: 0.0382 - val_loss: 0.0156 - val_mean_absolute_error: 0.0343\n",
            "Epoch 9/15\n",
            "2000/2000 [==============================] - 8s 4ms/step - loss: 0.0150 - mean_absolute_error: 0.0381 - val_loss: 0.0156 - val_mean_absolute_error: 0.0329\n",
            "Epoch 10/15\n",
            "2000/2000 [==============================] - 7s 4ms/step - loss: 0.0150 - mean_absolute_error: 0.0379 - val_loss: 0.0157 - val_mean_absolute_error: 0.0318\n",
            "Epoch 11/15\n",
            "2000/2000 [==============================] - 7s 4ms/step - loss: 0.0150 - mean_absolute_error: 0.0379 - val_loss: 0.0156 - val_mean_absolute_error: 0.0356\n",
            "Epoch 12/15\n",
            "2000/2000 [==============================] - 7s 4ms/step - loss: 0.0150 - mean_absolute_error: 0.0378 - val_loss: 0.0155 - val_mean_absolute_error: 0.0357\n",
            "Epoch 13/15\n",
            "2000/2000 [==============================] - 7s 4ms/step - loss: 0.0149 - mean_absolute_error: 0.0376 - val_loss: 0.0156 - val_mean_absolute_error: 0.0352\n",
            "Epoch 14/15\n",
            "2000/2000 [==============================] - 7s 4ms/step - loss: 0.0149 - mean_absolute_error: 0.0376 - val_loss: 0.0156 - val_mean_absolute_error: 0.0352\n",
            "Epoch 15/15\n",
            "2000/2000 [==============================] - 7s 4ms/step - loss: 0.0149 - mean_absolute_error: 0.0376 - val_loss: 0.0156 - val_mean_absolute_error: 0.0362\n"
          ],
          "name": "stdout"
        },
        {
          "output_type": "execute_result",
          "data": {
            "text/plain": [
              "<tensorflow.python.keras.callbacks.History at 0x7ff3d4c35630>"
            ]
          },
          "metadata": {
            "tags": []
          },
          "execution_count": 67
        }
      ]
    },
    {
      "cell_type": "code",
      "metadata": {
        "id": "iydEe8ZtENZK",
        "colab_type": "code",
        "colab": {}
      },
      "source": [
        "ffwd_weights_file_path = weights_path + 'FFWD_weights.h5'"
      ],
      "execution_count": 0,
      "outputs": []
    },
    {
      "cell_type": "code",
      "metadata": {
        "id": "DsLEr85nSfUh",
        "colab_type": "code",
        "colab": {}
      },
      "source": [
        "# Saving the network weights\n",
        "ffwdModel.save_weights(ffwd_weights_file_path)"
      ],
      "execution_count": 0,
      "outputs": []
    },
    {
      "cell_type": "code",
      "metadata": {
        "id": "4ZoXNrZlS94a",
        "colab_type": "code",
        "colab": {}
      },
      "source": [
        "ffwdModel.load_weights(ffwd_weights_file_path)"
      ],
      "execution_count": 0,
      "outputs": []
    },
    {
      "cell_type": "markdown",
      "metadata": {
        "id": "crBNa3GNTk1s",
        "colab_type": "text"
      },
      "source": [
        "## Predict - FFWD\n",
        "\n",
        "This process is analog to what was done for the RNN."
      ]
    },
    {
      "cell_type": "code",
      "metadata": {
        "id": "Ef31yOx1mPe4",
        "colab_type": "code",
        "outputId": "92808d3d-184d-4256-d124-e4ace9d0dc79",
        "colab": {
          "base_uri": "https://localhost:8080/",
          "height": 1717
        }
      },
      "source": [
        "ffwd_predictions, ffwd_targets = get_preds_targets(testData, ffwdModel,nbatches)\n",
        "ffwd_targets1D = np.reshape(ffwd_targets,(nbatches*batchSize*seqL * ninputs))\n",
        "ffwd_predictions1D = np.reshape(ffwd_predictions,(nbatches*batchSize*seqL * ninputs))"
      ],
      "execution_count": 74,
      "outputs": [
        {
          "output_type": "stream",
          "text": [
            "Getting batch 0\n",
            "Getting batch 1\n",
            "Getting batch 2\n",
            "Getting batch 3\n",
            "Getting batch 4\n",
            "Getting batch 5\n",
            "Getting batch 6\n",
            "Getting batch 7\n",
            "Getting batch 8\n",
            "Getting batch 9\n",
            "Getting batch 10\n",
            "Getting batch 11\n",
            "Getting batch 12\n",
            "Getting batch 13\n",
            "Getting batch 14\n",
            "Getting batch 15\n",
            "Getting batch 16\n",
            "Getting batch 17\n",
            "Getting batch 18\n",
            "Getting batch 19\n",
            "Getting batch 20\n",
            "Getting batch 21\n",
            "Getting batch 22\n",
            "Getting batch 23\n",
            "Getting batch 24\n",
            "Getting batch 25\n",
            "Getting batch 26\n",
            "Getting batch 27\n",
            "Getting batch 28\n",
            "Getting batch 29\n",
            "Getting batch 30\n",
            "Getting batch 31\n",
            "Getting batch 32\n",
            "Getting batch 33\n",
            "Getting batch 34\n",
            "Getting batch 35\n",
            "Getting batch 36\n",
            "Getting batch 37\n",
            "Getting batch 38\n",
            "Getting batch 39\n",
            "Getting batch 40\n",
            "Getting batch 41\n",
            "Getting batch 42\n",
            "Getting batch 43\n",
            "Getting batch 44\n",
            "Getting batch 45\n",
            "Getting batch 46\n",
            "Getting batch 47\n",
            "Getting batch 48\n",
            "Getting batch 49\n",
            "Getting batch 50\n",
            "Getting batch 51\n",
            "Getting batch 52\n",
            "Getting batch 53\n",
            "Getting batch 54\n",
            "Getting batch 55\n",
            "Getting batch 56\n",
            "Getting batch 57\n",
            "Getting batch 58\n",
            "Getting batch 59\n",
            "Getting batch 60\n",
            "Getting batch 61\n",
            "Getting batch 62\n",
            "Getting batch 63\n",
            "Getting batch 64\n",
            "Getting batch 65\n",
            "Getting batch 66\n",
            "Getting batch 67\n",
            "Getting batch 68\n",
            "Getting batch 69\n",
            "Getting batch 70\n",
            "Getting batch 71\n",
            "Getting batch 72\n",
            "Getting batch 73\n",
            "Getting batch 74\n",
            "Getting batch 75\n",
            "Getting batch 76\n",
            "Getting batch 77\n",
            "Getting batch 78\n",
            "Getting batch 79\n",
            "Getting batch 80\n",
            "Getting batch 81\n",
            "Getting batch 82\n",
            "Getting batch 83\n",
            "Getting batch 84\n",
            "Getting batch 85\n",
            "Getting batch 86\n",
            "Getting batch 87\n",
            "Getting batch 88\n",
            "Getting batch 89\n",
            "Getting batch 90\n",
            "Getting batch 91\n",
            "Getting batch 92\n",
            "Getting batch 93\n",
            "Getting batch 94\n",
            "Getting batch 95\n",
            "Getting batch 96\n",
            "Getting batch 97\n",
            "Getting batch 98\n",
            "Getting batch 99\n"
          ],
          "name": "stdout"
        }
      ]
    },
    {
      "cell_type": "markdown",
      "metadata": {
        "id": "HtdPqUMoUrLu",
        "colab_type": "text"
      },
      "source": [
        "## Posprocessing\n",
        "\n",
        "Postprocessing of the predicted peaks."
      ]
    },
    {
      "cell_type": "code",
      "metadata": {
        "id": "wo56cKuCk9Ys",
        "colab_type": "code",
        "outputId": "cc93a19f-45c9-4bef-e657-ca09e4de8ac9",
        "colab": {
          "base_uri": "https://localhost:8080/",
          "height": 561
        }
      },
      "source": [
        "ffwd_peak_locs_above_th, ffwd_targets_peak_locs_above_th, ffwd_peaks = get_peaks(ffwd_predictions1D,ffwd_targets1D)\n",
        "ffwd_peak_locs_above_th"
      ],
      "execution_count": 75,
      "outputs": [
        {
          "output_type": "execute_result",
          "data": {
            "text/plain": [
              "array([    879,    4145,   13276,   15266,   19158,   33312,   38516,\n",
              "         42312,   54567,   62394,   67316,   69594,   73270,   78076,\n",
              "         82258,   84058,  100158,  112759,  116355,  120058,  128516,\n",
              "        137994,  148479,  151767,  154025,  159412,  161358,  167967,\n",
              "        179066,  180567,  186425,  195740,  198716,  205894,  226025,\n",
              "        229479,  234716,  238794,  240558,  247229,  258094,  258658,\n",
              "        262025,  263429,  276412,  278458,  281494,  287112,  301167,\n",
              "        303312,  303594,  315676,  326516,  328316,  328868,  335367,\n",
              "        339554,  341225,  347903,  350394,  353679,  362994,  371345,\n",
              "        378676,  394829,  395394,  403916,  407516,  408068,  422458,\n",
              "        423567,  425825,  432545,  445858,  452994,  454794,  456740,\n",
              "        461825,  467540,  470516,  471068,  473903,  479994,  483670,\n",
              "        484916,  488679,  511876,  546238,  571103,  573279,  573559,\n",
              "        574780,  580889,  587345,  609412,  629489,  631194,  635980,\n",
              "        641679,  645116,  651140,  657912,  667012,  671903,  682916,\n",
              "        688858,  690279,  708425,  710225,  717412,  719540,  722345,\n",
              "        726425,  731994,  740994,  747567,  757258,  762658,  766025,\n",
              "        776303,  785679,  796276,  805512,  807279,  813070,  814103,\n",
              "        816594,  823145,  841794,  844767,  848345,  850438,  852425,\n",
              "        853767,  855866,  880767,  883194,  895316,  897670,  904316,\n",
              "        911679,  911957,  913466,  915670,  917412,  927629,  938825,\n",
              "        944458,  954694,  964258,  967625,  982194, 1005425, 1006829,\n",
              "       1010812, 1028494, 1030794, 1032689, 1045025, 1046712, 1046994,\n",
              "       1050559, 1079489, 1081159, 1082994, 1084754, 1099194, 1100429,\n",
              "       1104594, 1105829, 1106394, 1113279, 1113555, 1115394, 1120794,\n",
              "       1129794, 1131412, 1136679, 1140558, 1143838, 1151358, 1158558,\n",
              "       1168745, 1179567, 1183167, 1183438, 1187225, 1192940, 1210479,\n",
              "       1214489, 1228858, 1239594, 1252340, 1258745, 1275740, 1286458,\n",
              "       1288212, 1292903, 1302425, 1307825, 1327794, 1332503, 1342012,\n",
              "       1345167, 1347094, 1351194, 1352679, 1354316, 1354868, 1363794,\n",
              "       1375876, 1381316, 1381868, 1403079, 1408294, 1414159, 1415638,\n",
              "       1419594, 1426103])"
            ]
          },
          "metadata": {
            "tags": []
          },
          "execution_count": 75
        }
      ]
    },
    {
      "cell_type": "code",
      "metadata": {
        "id": "T2LC5f23WQY3",
        "colab_type": "code",
        "outputId": "66b6b298-ddde-49e8-9931-e3cb22fe7fd4",
        "colab": {
          "base_uri": "https://localhost:8080/",
          "height": 303
        }
      },
      "source": [
        "ffwd_t = range(nbatches*batchSize*seqL*ninputs)\n",
        "plt.plot(ffwd_t[23000:60000],ffwd_predictions1D[23000:60000]-2,'b',ffwd_t[23000:60000],ffwd_peaks[23000:60000],'g')"
      ],
      "execution_count": 76,
      "outputs": [
        {
          "output_type": "execute_result",
          "data": {
            "text/plain": [
              "[<matplotlib.lines.Line2D at 0x7ff3d485aa58>,\n",
              " <matplotlib.lines.Line2D at 0x7ff3d485aba8>]"
            ]
          },
          "metadata": {
            "tags": []
          },
          "execution_count": 76
        },
        {
          "output_type": "display_data",
          "data": {
            "image/png": "[encoded data removed]",
            "text/plain": [
              "<Figure size 432x288 with 1 Axes>"
            ]
          },
          "metadata": {
            "tags": []
          }
        }
      ]
    },
    {
      "cell_type": "markdown",
      "metadata": {
        "id": "gio1ysGZpNWA",
        "colab_type": "text"
      },
      "source": [
        "## Compare predicted peaks with annotations"
      ]
    },
    {
      "cell_type": "code",
      "metadata": {
        "id": "c7LO1AsVVrWg",
        "colab_type": "code",
        "outputId": "ce683b90-09b7-4c2d-8a3f-d93d4a41219a",
        "colab": {
          "base_uri": "https://localhost:8080/",
          "height": 170
        }
      },
      "source": [
        "ffwd_comparitor = compare_annotations(ffwd_targets_peak_locs_above_th, ffwd_peak_locs_above_th, 5, signal=None)\n",
        "ffwd_comparitor.print_summary()"
      ],
      "execution_count": 77,
      "outputs": [
        {
          "output_type": "stream",
          "text": [
            "5346 reference annotations, 219 test annotations\n",
            "\n",
            "True Positives (matched samples): 190\n",
            "False Positives (unmatched test samples: 29\n",
            "False Negatives (unmatched reference samples): 5156\n",
            "\n",
            "Specificity: 0.0355 (190/5346)\n",
            "Positive Predictivity: 0.8676 (190/219)\n",
            "False Positive Rate: 0.1324 (29/219)\n"
          ],
          "name": "stdout"
        }
      ]
    }
  ]
}