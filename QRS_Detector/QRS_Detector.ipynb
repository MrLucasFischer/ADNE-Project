{
 "cells": [
  {
   "cell_type": "markdown",
   "metadata": {},
   "source": [
    "# QRS Detector\n",
    "\n",
    "Melhorar isto"
   ]
  },
  {
   "cell_type": "code",
   "execution_count": 1,
   "metadata": {},
   "outputs": [],
   "source": [
    "# importing required libraries\n",
    "import numpy as np\n",
    "import tensorflow as tf\n",
    "from tensorflow.python.keras import layers\n",
    "import matplotlib.pyplot as plt\n",
    "import pickle as pkl\n",
    "import random"
   ]
  },
  {
   "cell_type": "code",
   "execution_count": 2,
   "metadata": {},
   "outputs": [],
   "source": [
    "# auxiliary function\n",
    "# extracts from a long np-array (2-rows) a (2-rows)-random segment with a fixed length (seqL*ninputs)\n",
    "def selectFrom1ecg_TOREVIEW(ecgBdata,seqL, ninputs, file_indexes):\n",
    "    \"\"\"\n",
    "    x: An array with vairous files, channels and examples\n",
    "    seqL:  number of timesteps to be used in recurrent nn\n",
    "    ninput : is number of inputs in each timestep\n",
    "    file_indexes: A list of the file indexes for training or validation set\n",
    "    \"\"\"\n",
    "    segmentL  = seqL * ninputs\n",
    "    numChan = 3\n",
    "    \n",
    "    inputs = []\n",
    "    targets = []\n",
    "    \n",
    "    for idx in file_indexes:\n",
    "        inpOutSegment = tf.random_crop(ecgBdata[idx],[numChan, segmentL])\n",
    "        channelII = inpOutSegment[0,:]\n",
    "        channelV1 = inpOutSegment[1,:]\n",
    "        target = inpOutSegment[2,:]\n",
    "        \n",
    "        inputs.append(channelII + channelV1)\n",
    "        targets.append(target)\n",
    "    return inputs,target"
   ]
  },
  {
   "cell_type": "code",
   "execution_count": 3,
   "metadata": {},
   "outputs": [],
   "source": [
    "# auxiliary function\n",
    "# extracts from a long np-array (2-rows) a (2-rows)-random segment with a fixed length (seqL*ninputs)\n",
    "def selectFrom1ecg(ecgBdata,seqL, ninputs):\n",
    "    \"\"\"ecgBdata.shape=(1,112500) \n",
    "    seqL:  number of timesteps to be used in recurrent nn\n",
    "    ninput : is number of inputs in each timestep\n",
    "    \"\"\"\n",
    "    segmentL  = seqL * ninputs\n",
    "    numChan = 3\n",
    "    inpOutSegment = tf.random_crop(ecgBdata,[numChan, segmentL])\n",
    "    inputs = inpOutSegment[0,:] + inpOutSegment[1,:]\n",
    "    target = inpOutSegment[2,:]\n",
    "    return inputs,target"
   ]
  },
  {
   "cell_type": "markdown",
   "metadata": {},
   "source": [
    "## Dataset array creation\n",
    "\n",
    "Creating a 3D array with all the files and info there in (MELHORAR ISTO)"
   ]
  },
  {
   "cell_type": "code",
   "execution_count": 4,
   "metadata": {},
   "outputs": [],
   "source": [
    "dataset_array = []\n",
    "\n",
    "files_not_to_read = [4,17,35,44,57,72,74]\n",
    "index_counter = 0\n",
    "for i in range(1, 76):\n",
    "    \n",
    "    if i not in files_not_to_read:\n",
    "        file_path = f\"./processed_data/Training/I{i:02}\"\n",
    "        file_data = pkl.load(open(file_path, \"rb\"))        \n",
    "        index_counter = index_counter + 1\n",
    "        \n",
    "        info = [file_data[\"channelII\"], file_data[\"channelV1\"], file_data[\"label\"]]\n",
    "        dataset_array.append(info)\n",
    "\n",
    "ecgs_array = np.array(dataset_array)"
   ]
  },
  {
   "cell_type": "code",
   "execution_count": 6,
   "metadata": {},
   "outputs": [
    {
     "name": "stdout",
     "output_type": "stream",
     "text": [
      "WARNING:tensorflow:From /anaconda3/envs/tensorflow_env/lib/python3.7/site-packages/tensorflow/python/ops/control_flow_ops.py:3632: colocate_with (from tensorflow.python.framework.ops) is deprecated and will be removed in a future version.\n",
      "Instructions for updating:\n",
      "Colocations handled automatically by placer.\n"
     ]
    }
   ],
   "source": [
    "training_data = ecgs_array[0]\n",
    "validation_data = ecgs_array[1]\n",
    "\n",
    "# Sequence length (number of timesteps)\n",
    "seqL = 20\n",
    "\n",
    "# Sampling frequency\n",
    "fs = 360\n",
    "\n",
    "# For each timestep we give ninputs\n",
    "ninputs = int(0.2*fs)\n",
    "\n",
    "# training data\n",
    "# Create efficient training sequencess\n",
    "trainData =tf.data.Dataset.from_tensors(training_data[:,:])\n",
    "trainData = trainData.map(lambda x:  selectFrom1ecg(x, seqL, ninputs))\n",
    "trainData = trainData.repeat()  # Repeat the input indefinitely.\n",
    "batchSize = 8\n",
    "trainData = trainData.batch(batchSize)\n",
    "\n",
    "# validation data\n",
    "valData =tf.data.Dataset.from_tensors(validation_data[:,:])\n",
    "valData = valData.map(lambda x:  selectFrom1ecg(x,seqL, ninputs))\n",
    "valData = valData.repeat()  # Repeat the input indefinitely.\n",
    "batchSize = 8\n",
    "valData = valData.batch(batchSize)"
   ]
  },
  {
   "cell_type": "code",
   "execution_count": 7,
   "metadata": {},
   "outputs": [
    {
     "data": {
      "image/png": "[encoded data removed]",
      "text/plain": [
       "<Figure size 432x288 with 1 Axes>"
      ]
     },
     "metadata": {
      "needs_background": "light"
     },
     "output_type": "display_data"
    },
    {
     "data": {
      "image/png": "[encoded data removed]",
      "text/plain": [
       "<Figure size 432x288 with 1 Axes>"
      ]
     },
     "metadata": {
      "needs_background": "light"
     },
     "output_type": "display_data"
    }
   ],
   "source": [
    "# let's visualize the model's input data and target data\n",
    "iterator = trainData.make_initializable_iterator()\n",
    "next_element = iterator.get_next()\n",
    "with tf.Session() as sess:\n",
    "    sess.run(iterator.initializer)\n",
    "    inp, targ = sess.run(next_element)\n",
    "plt.plot(inp[0,:])\n",
    "plt.title('inputs')\n",
    "plt.show()\n",
    "plt.plot(targ[0,:])\n",
    "plt.title('targets')\n",
    "plt.show()"
   ]
  },
  {
   "cell_type": "code",
   "execution_count": null,
   "metadata": {},
   "outputs": [
    {
     "name": "stdout",
     "output_type": "stream",
     "text": [
      "WARNING:tensorflow:From /anaconda3/envs/tensorflow_env/lib/python3.7/site-packages/tensorflow/python/keras/utils/losses_utils.py:170: to_float (from tensorflow.python.ops.math_ops) is deprecated and will be removed in a future version.\n",
      "Instructions for updating:\n",
      "Use tf.cast instead.\n",
      "WARNING:tensorflow:From /anaconda3/envs/tensorflow_env/lib/python3.7/site-packages/tensorflow/python/ops/math_ops.py:3066: to_int32 (from tensorflow.python.ops.math_ops) is deprecated and will be removed in a future version.\n",
      "Instructions for updating:\n",
      "Use tf.cast instead.\n",
      "Epoch 1/10\n"
     ]
    }
   ],
   "source": [
    "ffwdModel = tf.keras.Sequential()\n",
    "ffwdModel.add(layers.Dense(64, activation='relu',input_shape=(seqL*ninputs,)))\n",
    "ffwdModel.add(layers.Dense(64, activation='relu'))\n",
    "ffwdModel.add(layers.Dense(seqL*ninputs))\n",
    "\n",
    "ffwdModel.compile(optimizer=tf.train.RMSPropOptimizer(0.001), loss='MSE',metrics=['mae'])\n",
    "ffwdModel.fit(trainData,  epochs=10, steps_per_epoch=1000, validation_data=valData, validation_steps=100)"
   ]
  },
  {
   "cell_type": "code",
   "execution_count": 8,
   "metadata": {},
   "outputs": [],
   "source": [
    "training_data = ecgs_array[0]\n",
    "validation_data = ecgs_array[1]\n",
    "\n",
    "# Sequence length (number of timesteps)\n",
    "seqL = 20\n",
    "\n",
    "# Sampling frequency\n",
    "fs = 360\n",
    "\n",
    "# For each timestep we give ninputs\n",
    "ninputs = int(0.2*fs)\n",
    "numLstmUnits = 32\n",
    "\n",
    "# training data\n",
    "# Create efficient training sequencess\n",
    "trainData =tf.data.Dataset.from_tensors(training_data[:,:])\n",
    "trainData = trainData.map(lambda x:  selectFrom1ecg(x, seqL, ninputs))\n",
    "trainData = trainData.repeat()  # Repeat the input indefinitely.\n",
    "batchSize = 8\n",
    "trainData = trainData.batch(batchSize)\n",
    "\n",
    "# validation data\n",
    "valData =tf.data.Dataset.from_tensors(validation_data[:,:])\n",
    "valData = valData.map(lambda x:  selectFrom1ecg(x,seqL, ninputs))\n",
    "valData = valData.repeat()  # Repeat the input indefinitely.\n",
    "batchSize = 8\n",
    "valData = valData.batch(batchSize)"
   ]
  },
  {
   "cell_type": "code",
   "execution_count": null,
   "metadata": {},
   "outputs": [
    {
     "name": "stdout",
     "output_type": "stream",
     "text": [
      "WARNING:tensorflow:From /anaconda3/envs/tensorflow_env/lib/python3.7/site-packages/tensorflow/python/keras/utils/losses_utils.py:170: to_float (from tensorflow.python.ops.math_ops) is deprecated and will be removed in a future version.\n",
      "Instructions for updating:\n",
      "Use tf.cast instead.\n",
      "WARNING:tensorflow:From /anaconda3/envs/tensorflow_env/lib/python3.7/site-packages/tensorflow/python/ops/math_ops.py:3066: to_int32 (from tensorflow.python.ops.math_ops) is deprecated and will be removed in a future version.\n",
      "Instructions for updating:\n",
      "Use tf.cast instead.\n",
      "Epoch 1/10\n"
     ]
    }
   ],
   "source": [
    "denseDim = ninputs\n",
    "rnnModel = tf.keras.Sequential()\n",
    "rnnModel.add(layers.Reshape((seqL,ninputs), input_shape=(seqL*ninputs,)))\n",
    "rnnModel.add(layers.LSTM(units=numLstmUnits, return_sequences=True))         \n",
    "rnnModel.add(layers.LSTM(units=numLstmUnits, return_sequences=True))\n",
    "rnnModel.add(layers.TimeDistributed(layers.Dense(denseDim)))\n",
    "rnnModel.add(layers.Reshape((seqL*ninputs,)))\n",
    "\n",
    "rnnModel.compile(optimizer=tf.train.RMSPropOptimizer(0.001), loss='MSE',metrics=['mae'])\n",
    "rnnModel.fit(trainData,  epochs=10, steps_per_epoch=1000, validation_data=valData, validation_steps=100)"
   ]
  },
  {
   "cell_type": "code",
   "execution_count": null,
   "metadata": {},
   "outputs": [],
   "source": [
    "# # number of examples\n",
    "# N = ecgs_array.shape[2]\n",
    "\n",
    "# # Sequence length (number of timesteps)\n",
    "# seqL = 20\n",
    "\n",
    "# # Sampling frequency\n",
    "# fs = 360\n",
    "\n",
    "# # For each timestep we give ninputs\n",
    "# ninputs = int(0.2*fs)\n",
    "\n",
    "# # We randomly select 35 files for the training set and the rest go to the validation set\n",
    "# #training_file_indexes = random.sample(list(range(68)), 35)\n",
    "# #validation_file_indexes = [x for x in range(68) if x not in training_file_indexes]\n",
    "# training_file_indexes = [1, 2]\n",
    "# validation_file_indexes = [3, 4]\n",
    "\n",
    "# # training data\n",
    "# # Create efficient training sequencess\n",
    "# trainData =tf.data.Dataset.from_tensors(ecgs_array[training_file_indexes, :, :])\n",
    "# trainData = trainData.map(lambda x:  selectFrom1ecg(x, seqL, ninputs, training_file_indexes))\n",
    "# trainData = trainData.repeat()  # Repeat the input indefinitely.\n",
    "# batchSize = 8\n",
    "# trainData = trainData.batch(batchSize)\n",
    "\n",
    "# valData = tf.data.Dataset.from_tensors(ecgs_array[validation_file_indexes, :, :])"
   ]
  }
 ],
 "metadata": {
  "kernelspec": {
   "display_name": "Python 3",
   "language": "python",
   "name": "python3"
  },
  "language_info": {
   "codemirror_mode": {
    "name": "ipython",
    "version": 3
   },
   "file_extension": ".py",
   "mimetype": "text/x-python",
   "name": "python",
   "nbconvert_exporter": "python",
   "pygments_lexer": "ipython3",
   "version": "3.7.3"
  }
 },
 "nbformat": 4,
 "nbformat_minor": 2
}
