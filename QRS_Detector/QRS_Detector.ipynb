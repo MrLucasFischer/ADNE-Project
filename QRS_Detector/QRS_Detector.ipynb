{
 "cells": [
  {
   "cell_type": "markdown",
   "metadata": {},
   "source": [
    "# QRS Detector\n",
    "\n",
    "This notebook implements the actual QRS Detector. In this notebook there are two networks present, a fully conected feed forward network and a recurrent network, with the aim of comparing the two models and verifying which is more indicated for the type of data we have"
   ]
  },
  {
   "cell_type": "code",
   "execution_count": null,
   "metadata": {},
   "outputs": [],
   "source": [
    "# importing required libraries\n",
    "import numpy as np\n",
    "import tensorflow as tf\n",
    "from tensorflow.python.keras import layers\n",
    "import matplotlib.pyplot as plt\n",
    "import pickle as pkl\n",
    "import random"
   ]
  },
  {
   "cell_type": "markdown",
   "metadata": {},
   "source": [
    "## Sampling Function\n",
    "\n",
    "The objective is to retrieve a random cropping of both the signal and the target from all files specified for the training/validation set. This helps us have a more well-versed dataset for training and validating our models."
   ]
  },
  {
   "cell_type": "code",
   "execution_count": null,
   "metadata": {},
   "outputs": [],
   "source": [
    "# auxiliary function\n",
    "# extracts from a long np-array (2-rows) a (2-rows)-random segment with a fixed length (seqL*ninputs)\n",
    "def selectFrom1ecg_TOREVIEW(ecgBdata,seqL, ninputs, file_indexes):\n",
    "    \"\"\"\n",
    "    x: An array with vairous files, channels and examples\n",
    "    seqL:  number of timesteps to be used in recurrent nn\n",
    "    ninput : is number of inputs in each timestep\n",
    "    file_indexes: A list of the file indexes for training or validation set\n",
    "    \"\"\"\n",
    "    segmentL  = seqL * ninputs\n",
    "    numChan = 3\n",
    "    \n",
    "    inputs = []\n",
    "    targets = []\n",
    "    \n",
    "    for idx in file_indexes:\n",
    "        inpOutSegment = tf.random_crop(ecgBdata[idx],[numChan, segmentL])\n",
    "        channelII = inpOutSegment[0,:]\n",
    "        channelV1 = inpOutSegment[1,:]\n",
    "        target = inpOutSegment[2,:]\n",
    "        \n",
    "        inputs.append(channelII + channelV1)\n",
    "        targets.append(target)\n",
    "    return inputs,target"
   ]
  },
  {
   "cell_type": "code",
   "execution_count": null,
   "metadata": {},
   "outputs": [],
   "source": [
    "# auxiliary function\n",
    "# extracts from a long np-array (2-rows) a (2-rows)-random segment with a fixed length (seqL*ninputs)\n",
    "def selectFrom1ecg(ecgBdata,seqL, ninputs):\n",
    "    \"\"\"ecgBdata.shape=(1,112500) \n",
    "    seqL:  number of timesteps to be used in recurrent nn\n",
    "    ninput : is number of inputs in each timestep\n",
    "    \"\"\"\n",
    "    segmentL  = seqL * ninputs\n",
    "    numChan = 3\n",
    "    inpOutSegment = tf.random_crop(ecgBdata,[numChan, segmentL])\n",
    "    inputs = inpOutSegment[0,:] + inpOutSegment[1,:]\n",
    "    target = inpOutSegment[2,:]\n",
    "    return inputs,target"
   ]
  },
  {
   "cell_type": "markdown",
   "metadata": {},
   "source": [
    "## Dataset array creation\n",
    "\n",
    "In this section we create the main dataset array containing all the training files. Each file has two input signals (channelII and channelV1) and a target signal."
   ]
  },
  {
   "cell_type": "code",
   "execution_count": null,
   "metadata": {},
   "outputs": [],
   "source": [
    "dataset_array = []\n",
    "\n",
    "files_not_to_read = [4,17,35,44,57,72,74]\n",
    "index_counter = 0\n",
    "for i in range(1, 76):\n",
    "    \n",
    "    if i not in files_not_to_read:\n",
    "        file_path = f\"./processed_data/Training/I{i:02}\"\n",
    "        file_data = pkl.load(open(file_path, \"rb\"))        \n",
    "        index_counter = index_counter + 1\n",
    "        \n",
    "        info = [file_data[\"channelII\"], file_data[\"channelV1\"], file_data[\"label\"]]\n",
    "        dataset_array.append(info)\n",
    "\n",
    "ecgs_array = np.array(dataset_array)"
   ]
  },
  {
   "cell_type": "code",
   "execution_count": null,
   "metadata": {},
   "outputs": [],
   "source": [
    "training_data = ecgs_array[0]\n",
    "validation_data = ecgs_array[1]\n",
    "\n",
    "# Sequence length (number of timesteps)\n",
    "seqL = 20\n",
    "\n",
    "# Sampling frequency\n",
    "fs = 360\n",
    "\n",
    "# For each timestep we give ninputs\n",
    "ninputs = int(0.2*fs)\n",
    "\n",
    "# training data\n",
    "# Create efficient training sequencess\n",
    "trainData =tf.data.Dataset.from_tensors(training_data[:,:])\n",
    "trainData = trainData.map(lambda x:  selectFrom1ecg(x, seqL, ninputs))\n",
    "trainData = trainData.repeat()  # Repeat the input indefinitely.\n",
    "batchSize = 8\n",
    "trainData = trainData.batch(batchSize)\n",
    "\n",
    "# validation data\n",
    "valData =tf.data.Dataset.from_tensors(validation_data[:,:])\n",
    "valData = valData.map(lambda x:  selectFrom1ecg(x,seqL, ninputs))\n",
    "valData = valData.repeat()  # Repeat the input indefinitely.\n",
    "batchSize = 8\n",
    "valData = valData.batch(batchSize)"
   ]
  },
  {
   "cell_type": "code",
   "execution_count": null,
   "metadata": {},
   "outputs": [],
   "source": [
    "# let's visualize the model's input data and target data\n",
    "iterator = trainData.make_initializable_iterator()\n",
    "next_element = iterator.get_next()\n",
    "with tf.Session() as sess:\n",
    "    sess.run(iterator.initializer)\n",
    "    inp, targ = sess.run(next_element)\n",
    "plt.plot(inp[0,:])\n",
    "plt.title('inputs')\n",
    "plt.show()\n",
    "plt.plot(targ[0,:])\n",
    "plt.title('targets')\n",
    "plt.show()"
   ]
  },
  {
   "cell_type": "code",
   "execution_count": null,
   "metadata": {},
   "outputs": [],
   "source": [
    "ffwdModel = tf.keras.Sequential()\n",
    "ffwdModel.add(layers.Dense(64, activation='relu',input_shape=(seqL*ninputs,)))\n",
    "ffwdModel.add(layers.Dense(64, activation='relu'))\n",
    "ffwdModel.add(layers.Dense(seqL*ninputs))\n",
    "\n",
    "ffwdModel.compile(optimizer=tf.train.RMSPropOptimizer(0.001), loss='MSE',metrics=['mae'])\n",
    "ffwdModel.fit(trainData,  epochs=10, steps_per_epoch=1000, validation_data=valData, validation_steps=100)"
   ]
  },
  {
   "cell_type": "code",
   "execution_count": null,
   "metadata": {},
   "outputs": [],
   "source": [
    "numLstmUnits = 320\n",
    "\n",
    "rnnModel = tf.keras.Sequential()\n",
    "rnnModel.add(layers.Reshape((seqL,ninputs), input_shape=(seqL*ninputs,)))\n",
    "rnnModel.add(layers.LSTM(units=numLstmUnits, return_sequences=True))         \n",
    "rnnModel.add(layers.LSTM(units=numLstmUnits, return_sequences=True))\n",
    "rnnModel.add(layers.LSTM(units=numLstmUnits, return_sequences=True))         \n",
    "rnnModel.add(layers.LSTM(units=numLstmUnits, return_sequences=True))\n",
    "rnnModel.add(layers.TimeDistributed(layers.Dense(ninputs)))\n",
    "rnnModel.add(layers.Reshape((seqL*ninputs,)))\n",
    "\n",
    "rnnModel.compile(optimizer=tf.train.RMSPropOptimizer(0.001), loss='MSE',metrics=['mae'])\n",
    "rnnModel.fit(trainData,  epochs=10, steps_per_epoch=1000, validation_data=valData, validation_steps=100)"
   ]
  },
  {
   "cell_type": "code",
   "execution_count": null,
   "metadata": {},
   "outputs": [],
   "source": [
    "# # number of examples\n",
    "# N = ecgs_array.shape[2]\n",
    "\n",
    "# # Sequence length (number of timesteps)\n",
    "# seqL = 20\n",
    "\n",
    "# # Sampling frequency\n",
    "# fs = 360\n",
    "\n",
    "# # For each timestep we give ninputs\n",
    "# ninputs = int(0.2*fs)\n",
    "\n",
    "# # We randomly select 35 files for the training set and the rest go to the validation set\n",
    "# #training_file_indexes = random.sample(list(range(68)), 35)\n",
    "# #validation_file_indexes = [x for x in range(68) if x not in training_file_indexes]\n",
    "# training_file_indexes = [1, 2]\n",
    "# validation_file_indexes = [3, 4]\n",
    "\n",
    "# # training data\n",
    "# # Create efficient training sequencess\n",
    "# trainData =tf.data.Dataset.from_tensors(ecgs_array[training_file_indexes, :, :])\n",
    "# trainData = trainData.map(lambda x:  selectFrom1ecg(x, seqL, ninputs, training_file_indexes))\n",
    "# trainData = trainData.repeat()  # Repeat the input indefinitely.\n",
    "# batchSize = 8\n",
    "# trainData = trainData.batch(batchSize)\n",
    "\n",
    "# valData = tf.data.Dataset.from_tensors(ecgs_array[validation_file_indexes, :, :])"
   ]
  },
  {
   "cell_type": "code",
   "execution_count": null,
   "metadata": {},
   "outputs": [],
   "source": [
    "# Perguntar ao prof porque é que dá erro aqui\n",
    "# Esclarecer com o prof o seqL e o ninputs para dar os tais 5 segundos\n",
    "# Perguntar sobre tirar a baseline dos signals\n",
    "# validar com o prof se a nossa maneira de usar os multiplos ficheiros está correta ou não"
   ]
  }
 ],
 "metadata": {
  "kernelspec": {
   "display_name": "Python 3",
   "language": "python",
   "name": "python3"
  },
  "language_info": {
   "codemirror_mode": {
    "name": "ipython",
    "version": 3
   },
   "file_extension": ".py",
   "mimetype": "text/x-python",
   "name": "python",
   "nbconvert_exporter": "python",
   "pygments_lexer": "ipython3",
   "version": "3.6.8"
  }
 },
 "nbformat": 4,
 "nbformat_minor": 2
}
