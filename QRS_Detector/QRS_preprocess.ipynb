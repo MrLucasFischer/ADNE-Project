{
 "cells": [
  {
   "cell_type": "markdown",
   "metadata": {},
   "source": [
    "# QRS training data Preprocessor\n",
    "\n",
    "Data preprocessor to build the training and validation data for our neural network\n",
    "\n",
    "This notebook implementes all the necessary steps to run the computations needed to create the training and test data files."
   ]
  },
  {
   "cell_type": "markdown",
   "metadata": {},
   "source": [
    "## Importing libraries"
   ]
  },
  {
   "cell_type": "code",
   "execution_count": null,
   "metadata": {},
   "outputs": [],
   "source": [
    "import wfdb\n",
    "import traceback\n",
    "from wfdb import processing\n",
    "import numpy as np\n",
    "import pickle as pkl\n",
    "import matplotlib.pyplot as plt\n",
    "import traceback"
   ]
  },
  {
   "cell_type": "markdown",
   "metadata": {},
   "source": [
    "## Creating the parabola function\n",
    "\n",
    "This function will create a parabola around a spike in order to give it more width so it can be more easily detected"
   ]
  },
  {
   "cell_type": "code",
   "execution_count": null,
   "metadata": {},
   "outputs": [],
   "source": [
    "# auxiliary function\n",
    "def parabola(a,n,r):\n",
    "    \"\"\"\n",
    "    Creates a parabola around the position of a spike specified in 'a'\n",
    "    Params:\n",
    "        a - A vector specifying peak positions\n",
    "        n - The length of the target vector to generate\n",
    "        r - The radius of the parabola\n",
    "    \"\"\"\n",
    "    assert n>2*r\n",
    "    y = np.zeros(n, dtype = np.float32)\n",
    "    x= np.array(range(2,2*r+1))\n",
    "    for i in a:\n",
    "        if i > r-1 and i <= n-r:\n",
    "            y[i-r+1:i+r] = ((r+1)**2-(x-r-1)**2)/(r+1)**2\n",
    "        elif i < r:\n",
    "            y[:i+r] = ((r+1)**2-(x[r-i-1:]-r-1)**2)/(r+1)**2\n",
    "        elif i<n:\n",
    "            y[i-r+1:] = ((r+1)**2-(x[:r-1+(n-i)]-r-1)**2)/(r+1)**2\n",
    "    return y"
   ]
  },
  {
   "cell_type": "markdown",
   "metadata": {},
   "source": [
    "## Preprocessing the files\n",
    "\n",
    "We iterate all the files and for each of them we read channels II and V1.\n",
    "\n",
    "After reading the channels we separate them into two distinct arrays in order to then join them into one 1D array.\n",
    "\n",
    "We filter out undesired lines, i.e., lines that do not have a QRS symbol specified in `qrs_symbs` list.\n",
    "\n",
    "The negative positions in the `qrs_symbs` list are also filtered out.\n",
    "\n",
    "Once the lines are filtered we create a parabola around the spikes of our labels to better identify them, this completes the preprocessing of the data and we are now ready to create an output dictionary to be serialized into a file with `pickle`"
   ]
  },
  {
   "cell_type": "markdown",
   "metadata": {},
   "source": [
    "### Preprocessing of the training datafiles"
   ]
  },
  {
   "cell_type": "code",
   "execution_count": null,
   "metadata": {},
   "outputs": [],
   "source": [
    "files_not_to_read = [4,17,35,44,57,72,74]\n",
    "for i in range(1, 76):\n",
    "    \n",
    "    if i not in files_not_to_read:\n",
    "        file_path = f\"./data/Training/I{i:02}\"\n",
    "        output_file_name = f\"./processed_data/Training/I{i:02}\"\n",
    "        try:\n",
    "            # Reading the channels of interest\n",
    "            signal, info = wfdb.rdsamp(file_path, channel_names = [\"II\", \"V1\"])\n",
    "\n",
    "            # Reading the annotations\n",
    "            annotations = wfdb.rdann(file_path, \"atr\")\n",
    "\n",
    "            signal, annotations = processing.resample_multichan(signal, annotations, 257, 360)\n",
    "\n",
    "            # Separating the two signals so we can put them in one dimension\n",
    "            signal_II = signal[:, 0]\n",
    "            signal_V1 = signal[:, 1]\n",
    "\n",
    "            symbol_positions = annotations.sample\n",
    "            symbol_list = annotations.symbol\n",
    "\n",
    "            # Filtering out all the lines that do not have a QRS symbol\n",
    "\n",
    "            qrs_symbs = ['N','L','R','B','A','a','J','S','V','r','F','e','j', 'n', 'E', '/', 'f', 'Q',' ?']\n",
    "\n",
    "            qrs_symbol_positions = [symbol_positions[idx] for idx, symb in enumerate(symbol_list) if symb in qrs_symbs]\n",
    "\n",
    "            # Some peak positions are negative values, we are filtering these negative values out\n",
    "            qrs_symbol_positions = [item for item in qrs_symbol_positions if item >= 0]\n",
    "\n",
    "            target_vec = parabola(qrs_symbol_positions, len(signal), 3)\n",
    "\n",
    "            output_dict = {\n",
    "                \"channelII\": signal_II,\n",
    "                \"channelV1\": signal_V1,\n",
    "                \"label\": target_vec\n",
    "            }\n",
    "\n",
    "            pkl.dump(output_dict, open(output_file_name, \"wb\"), protocol=pkl.HIGHEST_PROTOCOL)\n",
    "        except:\n",
    "            print(f\"Error on file {file_path}\")"
   ]
  },
  {
   "cell_type": "markdown",
   "metadata": {},
   "source": [
    "Example on how to read a file"
   ]
  },
  {
   "cell_type": "code",
   "execution_count": null,
   "metadata": {},
   "outputs": [],
   "source": [
    "data_dict = pkl.load(open(\"./processed_data/Training/I01\", \"rb\"))\n",
    "data_dict[\"features\"]"
   ]
  },
  {
   "cell_type": "markdown",
   "metadata": {},
   "source": [
    "### Preprocessing of the test datafiles"
   ]
  },
  {
   "cell_type": "code",
   "execution_count": null,
   "metadata": {},
   "outputs": [],
   "source": [
    "nofile_indexes = [110, 120, 204, 206, 211, 216, 218, 229]\n",
    "nofile_indexes = nofile_indexes + list(range(125,200)) + list(range(224,228))\n",
    "\n",
    "for i in range(100, 235):\n",
    "    \n",
    "    if i not in nofile_indexes:\n",
    "        file_path = f\"./data/Test/{i}\"\n",
    "        output_file_name = f\"./processed_data/Test/{i}\"\n",
    "        try:\n",
    "            # Reading the channels of interest\n",
    "            signal, info = wfdb.rdsamp(file_path)\n",
    "            # Separating the two signals so we can put them in one dimension\n",
    "            signal_II = signal[:, 0]\n",
    "            signal_V1 = signal[:, 1]\n",
    "\n",
    "\n",
    "            # Reading the annotations\n",
    "            annotations = wfdb.rdann(file_path, \"atr\")\n",
    "            symbol_positions = annotations.sample\n",
    "            symbol_list = annotations.symbol\n",
    "            \n",
    "            # Filtering out all the lines that do not have a QRS symbol\n",
    "\n",
    "            qrs_symbs = ['N','L','R','B','A','a','J','S','V','r','F','e','j', 'n', 'E', '/', 'f', 'Q',' ?']\n",
    "\n",
    "            qrs_symbol_positions = [symbol_positions[idx] for idx, symb in enumerate(symbol_list) if symb in qrs_symbs]\n",
    "\n",
    "            # Some peak positions are negative values, we are filtering these negative values out\n",
    "            qrs_symbol_positions = [item for item in qrs_symbol_positions if item >= 0]\n",
    "\n",
    "            target_vec = parabola(qrs_symbol_positions, len(signal), 3)\n",
    "\n",
    "            output_dict = {\n",
    "                \"channelII\": signal_II,\n",
    "                \"channelV1\": signal_V1,\n",
    "                \"label\": target_vec\n",
    "            }\n",
    "\n",
    "            pkl.dump(output_dict, open(output_file_name, \"wb\"), protocol=pkl.HIGHEST_PROTOCOL)\n",
    "        except:\n",
    "            #traceback.print_exc()\n",
    "            print(f\"Error on file {file_path}\")"
   ]
  }
 ],
 "metadata": {
  "kernelspec": {
   "display_name": "Python 3",
   "language": "python",
   "name": "python3"
  },
  "language_info": {
   "codemirror_mode": {
    "name": "ipython",
    "version": 3
   },
   "file_extension": ".py",
   "mimetype": "text/x-python",
   "name": "python",
   "nbconvert_exporter": "python",
   "pygments_lexer": "ipython3",
   "version": "3.7.3"
  }
 },
 "nbformat": 4,
 "nbformat_minor": 2
}
